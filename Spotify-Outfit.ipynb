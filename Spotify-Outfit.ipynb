{
 "cells": [
  {
   "cell_type": "code",
   "execution_count": 61,
   "id": "31132bf8-d74c-4ca4-b4cb-3aec4f82832e",
   "metadata": {},
   "outputs": [],
   "source": [
    "import spotipy\n",
    "from matplotlib import pyplot as plt\n",
    "from spotipy.oauth2 import SpotifyOAuth\n",
    "import urllib\n",
    "import spotipy.util as util\n",
    "import numpy as np\n",
    "import cv2\n",
    "import json\n",
    "import requests\n",
    "import pandas as pd\n",
    "from IPython.display import Image, display\n",
    "from sklearn.cluster import KMeans\n",
    "\n",
    "from datetime import datetime\n"
   ]
  },
  {
   "cell_type": "code",
   "execution_count": 62,
   "id": "470c1122-a6f0-4c52-b6b2-97b1ab4a67de",
   "metadata": {},
   "outputs": [],
   "source": [
    "# Spotify Credentials Setup\n",
    "credentials = \"spotify_keys.json\"\n",
    "with open(credentials, \"r\") as keys:\n",
    "    api_tokens = json.load(keys)\n",
    "\n",
    "client_id = api_tokens[\"client_id\"]\n",
    "client_secret = api_tokens[\"client_secret\"]\n",
    "redirectURI = api_tokens[\"redirect\"]\n",
    "username = api_tokens[\"username\"]"
   ]
  },
  {
   "cell_type": "code",
   "execution_count": 63,
   "id": "88d242c4-bc34-4ebb-a6be-9293089fe265",
   "metadata": {},
   "outputs": [],
   "source": [
    "# Set up Spotify Client with required scope for top tracks\n",
    "sp = spotipy.Spotify(auth_manager=SpotifyOAuth(client_id=client_id,\n",
    "                                               client_secret=client_secret,\n",
    "                                               redirect_uri=redirectURI,\n",
    "                                               scope=\"user-top-read\"))"
   ]
  },
  {
   "cell_type": "code",
   "execution_count": 64,
   "id": "f3776978-aea4-4770-9a67-4e387c9633c7",
   "metadata": {},
   "outputs": [],
   "source": [
    "# shopstyle Setup\n",
    "with open('shopstyle_api.txt','r') as shop_file:\n",
    "    shopstyle_key = shop_file.read()"
   ]
  },
  {
   "cell_type": "code",
   "execution_count": 65,
   "id": "0ea21a83-53ed-4006-a2ce-3ac155491826",
   "metadata": {},
   "outputs": [],
   "source": [
    "# Function to download the album image and convert it to a color format usable by OpenCV\n",
    "def url_to_image(url):\n",
    "# download the image, convert it to a Numpy array, then reverse it into OpenCV formate\n",
    "    resp = urllib.request.urlopen(url)\n",
    "    image = np.asarray(bytearray(resp.read()), dtype=\"uint8\")\n",
    "    image = cv2.imdecode(image, cv2.IMREAD_COLOR)\n",
    "    return image\n"
   ]
  },
  {
   "cell_type": "code",
   "execution_count": 66,
   "id": "daea4f0a-ec5a-4048-952c-6f7b0d165517",
   "metadata": {},
   "outputs": [],
   "source": [
    "# Function to create a histogram of colors in the image\n",
    "def find_histogram(clt):\n",
    "    \"\"\"\n",
    "    create a histogram with k clusters\n",
    "    :param: clt\n",
    "    :return:hist\n",
    "    \"\"\"\n",
    "    numLabels = np.arange(0, len(np.unique(clt.labels_)) + 1)\n",
    "    (hist, _) = np.histogram(clt.labels_, bins=numLabels)\n",
    "\n",
    "    hist = hist.astype(\"float\")\n",
    "    hist /= hist.sum()\n",
    "\n",
    "    return hist"
   ]
  },
  {
   "cell_type": "code",
   "execution_count": 67,
   "id": "367b1b34-e5e2-44df-b391-b3fd6245decf",
   "metadata": {},
   "outputs": [],
   "source": [
    "# Function to plot the top colors\n",
    "def plot_colors2(hist, centroids, song_title):\n",
    "    bar = np.zeros((50, 300, 3), dtype=\"uint8\")\n",
    "    startX = 0\n",
    "\n",
    "    for (percent, color) in zip(hist, centroids):\n",
    "        # plot the realtive percentage of each cluster\n",
    "        endX = startX + (percent * 300)\n",
    "        cv2.rectangle(bar, (int(startX), 0),(int(endX), 50), color.astype(\"uint8\").tolist(), -1)\n",
    "        startX = endX\n",
    "\n",
    "    # Display the color bar with the song title\n",
    "    plt.figure(figsize=(8, 2))\n",
    "    plt.axis(\"off\")\n",
    "    plt.title(f\"Color Bar for '{song_title}'\")\n",
    "    plt.imshow(bar)\n",
    "    plt.show()"
   ]
  },
  {
   "cell_type": "code",
   "execution_count": 68,
   "id": "771af04b-acd7-416e-afb9-6d99eb4774e7",
   "metadata": {},
   "outputs": [],
   "source": [
    "# Function to get album colors from Spotify song\n",
    "def get_album_colors(album_image_url,song_title):\n",
    "    image = url_to_image(album_image_url)\n",
    "    image = cv2.cvtColor(image, cv2.COLOR_BGR2RGB)\n",
    "    image = image.reshape((image.shape[0] * image.shape[1], 3))\n",
    "    clt = KMeans(n_clusters=3)  # Cluster for top 3 colors\n",
    "    clt.fit(image)\n",
    "    hist = find_histogram(clt)\n",
    "    return [tuple(map(int, color)) for color in clt.cluster_centers_]\n",
    "\n",
    "\n",
    "# Function to display album colors from Spotify song\n",
    "def display_album_colors(album_image_url,song_title):\n",
    "    image = url_to_image(album_image_url)\n",
    "    image = cv2.cvtColor(image, cv2.COLOR_BGR2RGB)\n",
    "    image = image.reshape((image.shape[0] * image.shape[1], 3))\n",
    "    clt = KMeans(n_clusters=3)  # Cluster for top 3 colors\n",
    "    clt.fit(image)\n",
    "    hist = find_histogram(clt)\n",
    "    # Show color bar for each song\n",
    "    plot_colors2(hist, clt.cluster_centers_, song_title)  "
   ]
  },
  {
   "cell_type": "code",
   "execution_count": 69,
   "id": "ec08ad7d-8ec1-4a7c-af3b-6a3ba2665539",
   "metadata": {},
   "outputs": [],
   "source": [
    "# Function to convert RGB to color names (use hue to define the color range)\n",
    "def rgb_to_color_name(rgb):\n",
    "    import colorsys\n",
    "    \n",
    "    r, g, b = rgb[0] / 255, rgb[1] / 255, rgb[2] / 255\n",
    "    h, s, v = colorsys.rgb_to_hsv(r, g, b)\n",
    "    \n",
    "    if v < 0.2:\n",
    "        return \"Black\"\n",
    "    elif v > 0.9 and s < 0.1:\n",
    "        return \"White\"\n",
    "    elif s < 0.1:\n",
    "        return \"Grey\"\n",
    "    \n",
    "    # Convert hue from 0-1 to 0-360 for easier mapping\n",
    "    hue_360 = h * 360\n",
    "\n",
    "    # Define more refined ranges for colors\n",
    "    if 0 <= hue_360 < 15 or 345 <= hue_360 <= 360:\n",
    "        return \"Red\"\n",
    "    elif 15 <= hue_360 < 30:\n",
    "        return \"Red-Orange\"\n",
    "    elif 30 <= hue_360 < 45:\n",
    "        return \"Orange\"\n",
    "    elif 45 <= hue_360 < 60:\n",
    "        return \"Yellow-Orange\"\n",
    "    elif 60 <= hue_360 < 90:\n",
    "        return \"Yellow\"\n",
    "    elif 90 <= hue_360 < 120:\n",
    "        return \"Yellow-Green\"\n",
    "    elif 120 <= hue_360 < 150:\n",
    "        return \"Green\"\n",
    "    elif 150 <= hue_360 < 180:\n",
    "        return \"Green-Cyan\"\n",
    "    elif 180 <= hue_360 < 210:\n",
    "        return \"Cyan\"\n",
    "    elif 210 <= hue_360 < 240:\n",
    "        return \"Blue-Cyan\"\n",
    "    elif 240 <= hue_360 < 270:\n",
    "        return \"Blue\"\n",
    "    elif 270 <= hue_360 < 300:\n",
    "        return \"Blue-Purple\"\n",
    "    elif 300 <= hue_360 < 330:\n",
    "        return \"Purple\"\n",
    "    elif 330 <= hue_360 < 345:\n",
    "        return \"Pink-Purple\"\n",
    "    else:\n",
    "        return \"Unknown color\"\n",
    "\n",
    "# print(rgb_to_color_name((165, 81, 75))) \n",
    "# print(rgb_to_color_name((252, 222, 239)))\n",
    "# print(rgb_to_color_name((4, 3, 3)))"
   ]
  },
  {
   "cell_type": "code",
   "execution_count": 70,
   "id": "6ce6461c-e8e5-450c-862e-74aadf02eabb",
   "metadata": {},
   "outputs": [
    {
     "data": {
      "text/plain": [
       "'fall'"
      ]
     },
     "execution_count": 70,
     "metadata": {},
     "output_type": "execute_result"
    }
   ],
   "source": [
    "# Determine the current season based on current month\n",
    "def get_current_season():\n",
    "    month = datetime.now().month\n",
    "    if month in [12, 1, 2]:\n",
    "        return \"winter\"\n",
    "    elif month in [3, 4, 5]:\n",
    "        return \"spring\"\n",
    "    elif month in [6, 7, 8]:\n",
    "        return \"summer\"\n",
    "    else:\n",
    "        return \"fall\"\n",
    "        \n",
    "get_current_season()"
   ]
  },
  {
   "cell_type": "code",
   "execution_count": 71,
   "id": "d8628052-d4f0-40cf-a762-701f2639386d",
   "metadata": {},
   "outputs": [],
   "source": [
    "# ShopStyle API call to get outfit suggestions based on combined color names, gender, and season\n",
    "def get_outfit_suggestions(combined_colors, gender, season, keyword=\"clothing\", limit=5):\n",
    "    if combined_colors in [\"white gray black\", \"gray black white\", \"black gray white\"]:\n",
    "        combined_colors = \"neutral tones\"  # Use a broad, fashion-related term for neutral tones\n",
    "\n",
    "    url = f\"https://api.shopstyle.com/api/v2/products\"\n",
    "    params = {\n",
    "        \"pid\": shopstyle_key,\n",
    "        \"fts\": f\"{gender} {season} {keyword} {combined_colors}\",\n",
    "        \"offset\": 0,\n",
    "        \"limit\": limit,\n",
    "        \"sort\": \"popularity\"\n",
    "    }\n",
    "    response = requests.get(url, params=params)\n",
    "    if response.status_code == 200:\n",
    "        return response.json().get(\"products\", [])\n",
    "    else:\n",
    "        print(\"Error fetching outfits:\", response.status_code)\n",
    "        return []"
   ]
  },
  {
   "cell_type": "code",
   "execution_count": 72,
   "id": "71c07665-104c-4c9e-948b-6c157539acf3",
   "metadata": {},
   "outputs": [],
   "source": [
    "# Modified display_outfits function with fallback to sample item if no outfits found\n",
    "def display_outfits(outfits, color_names):\n",
    "    # If no outfits are found, fetch a sample outfit in the primary color\n",
    "    if not outfits:\n",
    "        primary_color = color_names[0]  # Use the first color as the main color for the sample item\n",
    "        print(f\"No outfits found for color scheme: {', '.join(color_names).capitalize()}. Fetching a sample {primary_color} outfit...\")\n",
    "        outfits = get_sample_clothing_by_color(primary_color)\n",
    "\n",
    "    # Display the outfits (whether from the original query or a sample)\n",
    "    if outfits:\n",
    "        print(f\"Outfits for Color Scheme: {', '.join(color_names).capitalize()}\")\n",
    "        for item in outfits:\n",
    "            title = item.get(\"name\")\n",
    "            price = item.get(\"priceLabel\")\n",
    "            brand = item.get(\"brand\", {}).get(\"name\")\n",
    "            link = item.get(\"clickUrl\")\n",
    "            \n",
    "            # Check if \"image\" is a dictionary, and extract the actual URL string\n",
    "            image_data = item.get(\"image\", \"\")\n",
    "            image_url = image_data.get(\"sizes\", {}).get(\"Original\", {}).get(\"url\") if isinstance(image_data, dict) else image_data\n",
    "            \n",
    "            # Display outfit details\n",
    "            print(f\"Title: {title}\")\n",
    "            print(f\"Price: {price}\")\n",
    "            print(f\"Brand: {brand}\")\n",
    "            print(f\"Link: {link}\")\n",
    "            \n",
    "            # Display image inline if image_url is available and is a string\n",
    "            if isinstance(image_url, str) and image_url:\n",
    "                display(Image(url=image_url))\n",
    "            \n",
    "            print(\"\\n\" + \"-\"*50 + \"\\n\")  # Divider between items\n",
    "    else:\n",
    "        print(f\"No sample outfits found for color scheme: {', '.join(color_names).capitalize()}\")"
   ]
  },
  {
   "cell_type": "code",
   "execution_count": 73,
   "id": "8eefc228-5e56-44e6-bc49-4fbd61074b97",
   "metadata": {},
   "outputs": [
    {
     "name": "stdout",
     "output_type": "stream",
     "text": [
      "Outfits for Color Scheme: Black\n",
      "Title: Falling Poppies Petra Stretch Silk Button-Front Top\n",
      "Price: $395\n",
      "Brand: Cinq à Sept\n",
      "Link: https://api.shopstyle.com/action/apiVisitRetailer?id=1066001467&pid=uid1241-46108024-89\n"
     ]
    },
    {
     "data": {
      "text/html": [
       "<img src=\"https://img.shopstyle-cdn.com/sim/c2/d9/c2d9ee0ee593ea671fe394bacfe9cda9_best/falling-poppies-petra-stretch-silk-button-front-top.jpg\"/>"
      ],
      "text/plain": [
       "<IPython.core.display.Image object>"
      ]
     },
     "metadata": {},
     "output_type": "display_data"
    },
    {
     "name": "stdout",
     "output_type": "stream",
     "text": [
      "\n",
      "--------------------------------------------------\n",
      "\n"
     ]
    }
   ],
   "source": [
    "# Function to get a sample black clothing item from ShopStyle API\n",
    "def get_black_clothing_sample(gender=\"women\", season=\"fall\", keyword=\"black clothing\", limit=1):\n",
    "    url = f\"https://api.shopstyle.com/api/v2/products\"\n",
    "    params = {\n",
    "        \"pid\": shopstyle_key,\n",
    "        \"fts\": f\"{gender} {season} {keyword}\",\n",
    "        \"offset\": 0,\n",
    "        \"limit\": limit,\n",
    "        \"sort\": \"popularity\"\n",
    "    }\n",
    "    response = requests.get(url, params=params)\n",
    "    if response.status_code == 200:\n",
    "        return response.json().get(\"products\", [])\n",
    "    else:\n",
    "        print(\"Error fetching black clothing:\", response.status_code)\n",
    "        return []\n",
    "\n",
    "# Testing the display_outfits function with a real black clothing item from ShopStyle\n",
    "black_outfits = get_black_clothing_sample(gender=\"women\", season=\"fall\", keyword=\"black clothing\")\n",
    "display_outfits(black_outfits, [\"black\"])\n"
   ]
  },
  {
   "cell_type": "code",
   "execution_count": 74,
   "id": "93e50eed-9e92-4fa3-9482-fbb016090920",
   "metadata": {},
   "outputs": [],
   "source": [
    "# Helper function to get a sample clothing item by color from ShopStyle API\n",
    "def get_sample_clothing_by_color(color, gender=\"women\", season=\"fall\", limit=1):\n",
    "    url = f\"https://api.shopstyle.com/api/v2/products\"\n",
    "    params = {\n",
    "        \"pid\": shopstyle_key,\n",
    "        \"fts\": f\"{gender} {season} {color} clothing\",\n",
    "        \"offset\": 0,\n",
    "        \"limit\": limit,\n",
    "        \"sort\": \"popularity\"\n",
    "    }\n",
    "    response = requests.get(url, params=params)\n",
    "    if response.status_code == 200:\n",
    "        return response.json().get(\"products\", [])\n",
    "    else:\n",
    "        print(f\"Error fetching {color} clothing:\", response.status_code)\n",
    "        return []\n"
   ]
  },
  {
   "cell_type": "code",
   "execution_count": 76,
   "id": "4838158c-620f-4b03-a3bd-0769395a1fce",
   "metadata": {},
   "outputs": [
    {
     "name": "stdout",
     "output_type": "stream",
     "text": [
      "Top 3 Selected Songs with Color Bars:\n",
      "\n",
      "'Overcast' by Kevin MacLeod\n",
      "\n",
      "'Story of My Life' by One Direction\n",
      "\n",
      "'Night Changes' by One Direction\n",
      "[{'track_name': 'Overcast', 'artist_name': 'Kevin MacLeod', 'album_image_url': 'https://i.scdn.co/image/ab67616d0000b2735acd0df739682efabb292b87', 'colors': [(163, 81, 128), (253, 244, 249), (136, 67, 7)], 'color_names': ['Purple', 'White', 'Red-Orange']}, {'track_name': 'Story of My Life', 'artist_name': 'One Direction', 'album_image_url': 'https://i.scdn.co/image/ab67616d0000b2732f76b797c382bedcafdf45e1', 'colors': [(169, 92, 88), (218, 215, 216), (26, 26, 25)], 'color_names': ['Red', 'Grey', 'Black']}, {'track_name': 'Night Changes', 'artist_name': 'One Direction', 'album_image_url': 'https://i.scdn.co/image/ab67616d0000b273d304ba2d71de306812eebaf4', 'colors': [(108, 107, 107), (218, 217, 218), (28, 29, 29)], 'color_names': ['Grey', 'Grey', 'Black']}]\n"
     ]
    }
   ],
   "source": [
    "# Main function to get selected songs and color bars\n",
    "def get_top_songs_colors():\n",
    "    # Fetch user's top 3 tracks\n",
    "    results = sp.current_user_top_tracks(limit=3)\n",
    "    top_tracks = results['items']\n",
    "    \n",
    "    out_data = []\n",
    "    print(\"Top 3 Selected Songs with Color Bars:\")\n",
    "    for track in top_tracks:\n",
    "        track_name = track['name']\n",
    "        artist_name = track['artists'][0]['name']\n",
    "        album_image_url = track['album']['images'][0]['url']\n",
    "        \n",
    "        # Print the song and artist name\n",
    "        print(f\"\\n'{track_name}' by {artist_name}\")\n",
    "        \n",
    "        # Display color bar for each song\n",
    "        colors = get_album_colors(album_image_url, track_name)\n",
    "        color_names = [rgb_to_color_name(color) for color in colors]\n",
    "        \n",
    "        data = {\n",
    "            \"track_name\":track_name,\n",
    "            \"artist_name\":artist_name,\n",
    "            \"album_image_url\":album_image_url,\n",
    "            \"colors\":colors,\n",
    "            \"color_names\":color_names\n",
    "        }\n",
    "        out_data.append(data)\n",
    "\n",
    "    return out_data\n",
    "# get_top_songs_colors return: out_data is a list.\n",
    "\n",
    "top_songs_colors = get_top_songs_colors()\n",
    "print(top_songs_colors)"
   ]
  },
  {
   "cell_type": "code",
   "execution_count": 77,
   "id": "a0edbbca-eb2e-4652-8572-347a64b6daf5",
   "metadata": {},
   "outputs": [
    {
     "name": "stdout",
     "output_type": "stream",
     "text": [
      "Song name: Overcast\n"
     ]
    },
    {
     "data": {
      "text/html": [
       "<img src=\"https://i.scdn.co/image/ab67616d0000b2735acd0df739682efabb292b87\" width=\"300\"/>"
      ],
      "text/plain": [
       "<IPython.core.display.Image object>"
      ]
     },
     "metadata": {},
     "output_type": "display_data"
    },
    {
     "data": {
      "image/png": "[encoded data removed]",
      "text/plain": [
       "<Figure size 800x200 with 1 Axes>"
      ]
     },
     "metadata": {},
     "output_type": "display_data"
    },
    {
     "name": "stdout",
     "output_type": "stream",
     "text": [
      "Song name: Story of My Life\n"
     ]
    },
    {
     "data": {
      "text/html": [
       "<img src=\"https://i.scdn.co/image/ab67616d0000b2732f76b797c382bedcafdf45e1\" width=\"300\"/>"
      ],
      "text/plain": [
       "<IPython.core.display.Image object>"
      ]
     },
     "metadata": {},
     "output_type": "display_data"
    },
    {
     "data": {
      "image/png": "[encoded data removed]",
      "text/plain": [
       "<Figure size 800x200 with 1 Axes>"
      ]
     },
     "metadata": {},
     "output_type": "display_data"
    },
    {
     "name": "stdout",
     "output_type": "stream",
     "text": [
      "Song name: Night Changes\n"
     ]
    },
    {
     "data": {
      "text/html": [
       "<img src=\"https://i.scdn.co/image/ab67616d0000b273d304ba2d71de306812eebaf4\" width=\"300\"/>"
      ],
      "text/plain": [
       "<IPython.core.display.Image object>"
      ]
     },
     "metadata": {},
     "output_type": "display_data"
    },
    {
     "data": {
      "image/png": "[encoded data removed]",
      "text/plain": [
       "<Figure size 800x200 with 1 Axes>"
      ]
     },
     "metadata": {},
     "output_type": "display_data"
    }
   ],
   "source": [
    "def display_top_songs_colors(in_data):\n",
    "    for data in in_data:\n",
    "        image_url = data[\"album_image_url\"]\n",
    "        print(\"Song name: \" + data['track_name'])\n",
    "        # display album pic\n",
    "        if isinstance(image_url, str) and image_url:\n",
    "            display(Image(url=image_url, width=300))\n",
    "        # display album color bar\n",
    "        display_album_colors(image_url, data[\"track_name\"])\n",
    "\n",
    "    \n",
    "display_top_songs_colors(top_songs_colors)"
   ]
  },
  {
   "cell_type": "code",
   "execution_count": 54,
   "id": "6a8f03df-eb82-4da3-b30f-c12f0bf59475",
   "metadata": {},
   "outputs": [],
   "source": [
    "# Generate and display outfit recommendations based on combined color scheme\n",
    "def display_top_songs_colors_and_outfits(gender, in_data):\n",
    "    for data in in_data:\n",
    "        color_names = data[\"color_names\"]\n",
    "        combined_colors = \" \".join(color_names)  # Combine color names into a single search term\n",
    "        print(f\"\\nOutfit Recommendations for '{data['track_name']}' by {data['artist_name']} with colors {combined_colors.capitalize()}:\")\n",
    "\n",
    "        # First attempt with the full color scheme\n",
    "        outfits = get_outfit_suggestions(combined_colors, gender, get_current_season())\n",
    "        # If no outfits found, try each color individually as a fallback\n",
    "        if not outfits:\n",
    "            print(f\"No outfits found for color scheme: {combined_colors.capitalize()}. Trying broader search terms...\")\n",
    "            outfits = get_outfit_suggestions(\"neutral outfit\" if \"neutral\" in combined_colors else combined_colors, gender, get_current_season())\n",
    "                \n",
    "            if outfits:\n",
    "                display_outfits(outfits, [color_name])\n",
    "            else:\n",
    "                print(f\"No outfits found even with broader search terms for: {', '.join(color_names).capitalize()}\")\n",
    "        else:\n",
    "            display_outfits(outfits, color_names)"
   ]
  },
  {
   "cell_type": "code",
   "execution_count": 55,
   "id": "6f7d4b6f-b275-4067-915f-b17929c4f80e",
   "metadata": {},
   "outputs": [
    {
     "name": "stdout",
     "output_type": "stream",
     "text": [
      "\n",
      "Outfit Recommendations for 'Overcast' by Kevin MacLeod with colors Purple purple red-orange:\n",
      "Outfits for Color Scheme: Purple, purple, red-orange\n",
      "Title: Women's Diana Ruched One-Shoulder Gown - Ivory - Size XXS\n",
      "Price: $215\n",
      "Brand: Norma Kamali\n",
      "Link: https://api.shopstyle.com/action/apiVisitRetailer?id=868914994&pid=uid1241-46108024-89\n"
     ]
    },
    {
     "data": {
      "text/html": [
       "<img src=\"https://img.shopstyle-cdn.com/sim/e8/b7/e8b77da709debe50c80fcf618718c17b_best/womens-diana-ruched-one-shoulder-gown-ivory-size-xxs.jpg\"/>"
      ],
      "text/plain": [
       "<IPython.core.display.Image object>"
      ]
     },
     "metadata": {},
     "output_type": "display_data"
    },
    {
     "name": "stdout",
     "output_type": "stream",
     "text": [
      "\n",
      "--------------------------------------------------\n",
      "\n",
      "Title: GREGG Womens Drawstring Hooded Comfy Sweatshirt Solid Color Long Sleeve Pullover Shirts Holiday Party Loose Fall Sweatshirt(Red\n",
      "Price: $20.99\n",
      "Brand: None\n",
      "Link: https://api.shopstyle.com/action/apiVisitRetailer?id=1005264838&pid=uid1241-46108024-89\n"
     ]
    },
    {
     "data": {
      "text/html": [
       "<img src=\"https://img.shopstyle-cdn.com/sim/e3/0a/e30a42c82ad027fb664c25ca8749dd74_best/gregg-womens-drawstring-hooded-comfy-sweatshirt-solid-color-long-sleeve-pullover-shirts-holiday-party-loose-fall-sweatshirt-red.jpg\"/>"
      ],
      "text/plain": [
       "<IPython.core.display.Image object>"
      ]
     },
     "metadata": {},
     "output_type": "display_data"
    },
    {
     "name": "stdout",
     "output_type": "stream",
     "text": [
      "\n",
      "--------------------------------------------------\n",
      "\n",
      "Title: Geleglaer Womens Half Zip Sweatshirts Cropped Pullover Fleece Quarter Zipper Tops Spring Fall Hoodie outfits Thumb Hole\n",
      "Price: $30.99\n",
      "Brand: None\n",
      "Link: https://api.shopstyle.com/action/apiVisitRetailer?id=1031483022&pid=uid1241-46108024-89\n"
     ]
    },
    {
     "data": {
      "text/html": [
       "<img src=\"https://img.shopstyle-cdn.com/sim/94/62/946223b2762c4da5577c9356202a612e_best/geleglaer-womens-half-zip-sweatshirts-cropped-pullover-fleece-quarter-zipper-tops-spring-fall-hoodie-outfits-thumb-hole.jpg\"/>"
      ],
      "text/plain": [
       "<IPython.core.display.Image object>"
      ]
     },
     "metadata": {},
     "output_type": "display_data"
    },
    {
     "name": "stdout",
     "output_type": "stream",
     "text": [
      "\n",
      "--------------------------------------------------\n",
      "\n",
      "Title: YMING Women's Oversized Sweatshirt Crew Neck Long Sleeve Casual Slit Sloucthy Pullover Top Fall Clothes Beige 3XL\n",
      "Price: $69.99\n",
      "Brand: None\n",
      "Link: https://api.shopstyle.com/action/apiVisitRetailer?id=1042152244&pid=uid1241-46108024-89\n"
     ]
    },
    {
     "data": {
      "text/html": [
       "<img src=\"https://img.shopstyle-cdn.com/sim/c2/55/c2551f1707e57b227db158b809e08d40_best/yming-womens-oversized-sweatshirt-crew-neck-long-sleeve-casual-slit-sloucthy-pullover-top-fall-clothes-beige-3xl.jpg\"/>"
      ],
      "text/plain": [
       "<IPython.core.display.Image object>"
      ]
     },
     "metadata": {},
     "output_type": "display_data"
    },
    {
     "name": "stdout",
     "output_type": "stream",
     "text": [
      "\n",
      "--------------------------------------------------\n",
      "\n",
      "Title: LOAIHA Women Half Zip Sweatshirt Pullover Plus Size Lightweight Color Block Long Sleeve Top Fall Winter Trendy Clothes\n",
      "Price: $26.99\n",
      "Brand: None\n",
      "Link: https://api.shopstyle.com/action/apiVisitRetailer?id=1005694361&pid=uid1241-46108024-89\n"
     ]
    },
    {
     "data": {
      "text/html": [
       "<img src=\"https://img.shopstyle-cdn.com/sim/65/6f/656f64a1082cb22b3baec4da378a949c_best/loaiha-women-half-zip-sweatshirt-pullover-plus-size-lightweight-color-block-long-sleeve-top-fall-winter-trendy-clothes.jpg\"/>"
      ],
      "text/plain": [
       "<IPython.core.display.Image object>"
      ]
     },
     "metadata": {},
     "output_type": "display_data"
    },
    {
     "name": "stdout",
     "output_type": "stream",
     "text": [
      "\n",
      "--------------------------------------------------\n",
      "\n",
      "\n",
      "Outfit Recommendations for 'Story of My Life' by One Direction with colors Black grey red:\n",
      "Outfits for Color Scheme: Black, grey, red\n",
      "Title: Plus Size Anyweather Fleece Quarter Zip Pullover\n",
      "Price: $34.95\n",
      "Brand: Lands' End\n",
      "Link: https://api.shopstyle.com/action/apiVisitRetailer?id=1063210215&pid=uid1241-46108024-89\n"
     ]
    },
    {
     "data": {
      "text/html": [
       "<img src=\"https://img.shopstyle-cdn.com/sim/6d/6e/6d6e9ee2d1d783e2b8e3ebb4bf4ff5cb_best/plus-size-anyweather-fleece-quarter-zip-pullover.jpg\"/>"
      ],
      "text/plain": [
       "<IPython.core.display.Image object>"
      ]
     },
     "metadata": {},
     "output_type": "display_data"
    },
    {
     "name": "stdout",
     "output_type": "stream",
     "text": [
      "\n",
      "--------------------------------------------------\n",
      "\n",
      "Title: Anyweather Fleece Quarter Zip Pullover\n",
      "Price: $34.95\n",
      "Brand: Lands' End\n",
      "Link: https://api.shopstyle.com/action/apiVisitRetailer?id=1063197317&pid=uid1241-46108024-89\n"
     ]
    },
    {
     "data": {
      "text/html": [
       "<img src=\"https://img.shopstyle-cdn.com/sim/13/52/13524f4cb4f73a79e9853d36eab7a08c_best/anyweather-fleece-quarter-zip-pullover.jpg\"/>"
      ],
      "text/plain": [
       "<IPython.core.display.Image object>"
      ]
     },
     "metadata": {},
     "output_type": "display_data"
    },
    {
     "name": "stdout",
     "output_type": "stream",
     "text": [
      "\n",
      "--------------------------------------------------\n",
      "\n",
      "Title: St. John's Bay Secretly Slender Womens Mid Rise Straight Corduroy Pant\n",
      "Price: $44\n",
      "Brand: ST. JOHN'S BAY\n",
      "Link: https://api.shopstyle.com/action/apiVisitRetailer?id=1064899443&pid=uid1241-46108024-89\n"
     ]
    },
    {
     "data": {
      "text/html": [
       "<img src=\"https://img.shopstyle-cdn.com/sim/a8/70/a8703c4376a65fac0ad5e3fbd692a63f_best/st-johns-bay-secretly-slender-womens-mid-rise-straight-corduroy-pant.jpg\"/>"
      ],
      "text/plain": [
       "<IPython.core.display.Image object>"
      ]
     },
     "metadata": {},
     "output_type": "display_data"
    },
    {
     "name": "stdout",
     "output_type": "stream",
     "text": [
      "\n",
      "--------------------------------------------------\n",
      "\n",
      "Title: Castelli Sinergia 2 Full-Zip Long-Sleeve Jersey - Women's\n",
      "Price: $129.99\n",
      "Brand: Castelli\n",
      "Link: https://api.shopstyle.com/action/apiVisitRetailer?id=891009511&pid=uid1241-46108024-89\n"
     ]
    },
    {
     "data": {
      "text/html": [
       "<img src=\"https://img.shopstyle-cdn.com/sim/5e/f6/5ef6d7ab1492c6af8bf72d63b992f9bf_best/castelli-sinergia-2-full-zip-long-sleeve-jersey-womens.jpg\"/>"
      ],
      "text/plain": [
       "<IPython.core.display.Image object>"
      ]
     },
     "metadata": {},
     "output_type": "display_data"
    },
    {
     "name": "stdout",
     "output_type": "stream",
     "text": [
      "\n",
      "--------------------------------------------------\n",
      "\n",
      "Title: Castelli Gabba RoS Jersey - Men's\n",
      "Price: $239.99\n",
      "Brand: Castelli\n",
      "Link: https://api.shopstyle.com/action/apiVisitRetailer?id=940490207&pid=uid1241-46108024-89\n"
     ]
    },
    {
     "data": {
      "text/html": [
       "<img src=\"https://img.shopstyle-cdn.com/sim/53/4a/534a13ff40b78aa79e3488b71930a6cc_best/castelli-gabba-ros-jersey-mens.jpg\"/>"
      ],
      "text/plain": [
       "<IPython.core.display.Image object>"
      ]
     },
     "metadata": {},
     "output_type": "display_data"
    },
    {
     "name": "stdout",
     "output_type": "stream",
     "text": [
      "\n",
      "--------------------------------------------------\n",
      "\n",
      "\n",
      "Outfit Recommendations for 'Night Changes' by One Direction with colors Black grey grey:\n",
      "Outfits for Color Scheme: Black, grey, grey\n",
      "Title: Horizontal Mink-Like Faux Fur Vest\n",
      "Price: $449\n",
      "Brand: Theia\n",
      "Link: https://api.shopstyle.com/action/apiVisitRetailer?id=1070879134&pid=uid1241-46108024-89\n"
     ]
    },
    {
     "data": {
      "text/html": [
       "<img src=\"https://img.shopstyle-cdn.com/sim/a7/03/a703a801ec941d79c23477fe6b713771_best/horizontal-mink-like-faux-fur-vest.jpg\"/>"
      ],
      "text/plain": [
       "<IPython.core.display.Image object>"
      ]
     },
     "metadata": {},
     "output_type": "display_data"
    },
    {
     "name": "stdout",
     "output_type": "stream",
     "text": [
      "\n",
      "--------------------------------------------------\n",
      "\n",
      "Title: Plus Size Anyweather Fleece Quarter Zip Pullover\n",
      "Price: $34.95\n",
      "Brand: Lands' End\n",
      "Link: https://api.shopstyle.com/action/apiVisitRetailer?id=1063210215&pid=uid1241-46108024-89\n"
     ]
    },
    {
     "data": {
      "text/html": [
       "<img src=\"https://img.shopstyle-cdn.com/sim/6d/6e/6d6e9ee2d1d783e2b8e3ebb4bf4ff5cb_best/plus-size-anyweather-fleece-quarter-zip-pullover.jpg\"/>"
      ],
      "text/plain": [
       "<IPython.core.display.Image object>"
      ]
     },
     "metadata": {},
     "output_type": "display_data"
    },
    {
     "name": "stdout",
     "output_type": "stream",
     "text": [
      "\n",
      "--------------------------------------------------\n",
      "\n",
      "Title: Reversible Belted Wool Stroller Coat with Detachable Lamb Shearling Collar\n",
      "Price: $4,500\n",
      "Brand: Gorski\n",
      "Link: https://api.shopstyle.com/action/apiVisitRetailer?id=1064788337&pid=uid1241-46108024-89\n"
     ]
    },
    {
     "data": {
      "text/html": [
       "<img src=\"https://img.shopstyle-cdn.com/sim/5c/31/5c315a3976588b45ade2ef6777240c83_best/reversible-belted-wool-stroller-coat-with-detachable-lamb-shearling-collar.jpg\"/>"
      ],
      "text/plain": [
       "<IPython.core.display.Image object>"
      ]
     },
     "metadata": {},
     "output_type": "display_data"
    },
    {
     "name": "stdout",
     "output_type": "stream",
     "text": [
      "\n",
      "--------------------------------------------------\n",
      "\n",
      "Title: Cashmere Turtleneck Sweater\n",
      "Price: $199.95\n",
      "Brand: Lands' End\n",
      "Link: https://api.shopstyle.com/action/apiVisitRetailer?id=1066624463&pid=uid1241-46108024-89\n"
     ]
    },
    {
     "data": {
      "text/html": [
       "<img src=\"https://img.shopstyle-cdn.com/sim/0f/68/0f6803e7928dbdd951fb309763b9f982_best/cashmere-turtleneck-sweater.jpg\"/>"
      ],
      "text/plain": [
       "<IPython.core.display.Image object>"
      ]
     },
     "metadata": {},
     "output_type": "display_data"
    },
    {
     "name": "stdout",
     "output_type": "stream",
     "text": [
      "\n",
      "--------------------------------------------------\n",
      "\n",
      "Title: C By Bloomingdale's Cashmere C by Bloomingdale's Crewneck Cashmere Sweater - Exclusive\n",
      "Price: $178\n",
      "Brand: None\n",
      "Link: https://api.shopstyle.com/action/apiVisitRetailer?id=823271798&pid=uid1241-46108024-89\n"
     ]
    },
    {
     "data": {
      "text/html": [
       "<img src=\"https://img.shopstyle-cdn.com/sim/99/10/9910da0abb041ed8a931b08ed6f32765_best/c-by-bloomingdales-cashmere-c-by-bloomingdales-crewneck-cashmere-sweater-exclusive.jpg\"/>"
      ],
      "text/plain": [
       "<IPython.core.display.Image object>"
      ]
     },
     "metadata": {},
     "output_type": "display_data"
    },
    {
     "name": "stdout",
     "output_type": "stream",
     "text": [
      "\n",
      "--------------------------------------------------\n",
      "\n"
     ]
    }
   ],
   "source": [
    "#  Display outfit recommendations based on combined color scheme\n",
    "display_top_songs_colors_and_outfits(\"women\",top_songs_colors)  # Change \"men\" to \"women\" as needed\n"
   ]
  },
  {
   "cell_type": "code",
   "execution_count": null,
   "id": "6653f55e-0500-48fb-b3ce-40edcde748cf",
   "metadata": {},
   "outputs": [],
   "source": []
  },
  {
   "cell_type": "code",
   "execution_count": 99,
   "id": "fc6c8767-1911-46b2-b295-a466c8ad0995",
   "metadata": {},
   "outputs": [],
   "source": []
  }
 ],
 "metadata": {
  "kernelspec": {
   "display_name": "Python 3 (ipykernel)",
   "language": "python",
   "name": "python3"
  },
  "language_info": {
   "codemirror_mode": {
    "name": "ipython",
    "version": 3
   },
   "file_extension": ".py",
   "mimetype": "text/x-python",
   "name": "python",
   "nbconvert_exporter": "python",
   "pygments_lexer": "ipython3",
   "version": "3.12.7"
  }
 },
 "nbformat": 4,
 "nbformat_minor": 5
}

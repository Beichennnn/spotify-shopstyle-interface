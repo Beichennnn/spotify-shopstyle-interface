{
 "cells": [
  {
   "cell_type": "code",
   "execution_count": 86,
   "id": "31132bf8-d74c-4ca4-b4cb-3aec4f82832e",
   "metadata": {},
   "outputs": [],
   "source": [
    "import spotipy\n",
    "from matplotlib import pyplot as plt\n",
    "from spotipy.oauth2 import SpotifyOAuth, SpotifyClientCredentials\n",
    "import urllib\n",
    "import spotipy.util as util\n",
    "import numpy as np\n",
    "import cv2\n",
    "import json\n",
    "import requests\n",
    "import pandas as pd\n",
    "from IPython.display import Image, display\n",
    "from sklearn.cluster import KMeans\n",
    "\n",
    "from datetime import datetime\n"
   ]
  },
  {
   "cell_type": "code",
   "execution_count": 87,
   "id": "470c1122-a6f0-4c52-b6b2-97b1ab4a67de",
   "metadata": {},
   "outputs": [],
   "source": [
    "# Spotify Credentials Setup\n",
    "credentials = \"spotify_keys.json\"\n",
    "with open(credentials, \"r\") as keys:\n",
    "    api_tokens = json.load(keys)\n",
    "\n",
    "client_id = api_tokens[\"client_id\"]\n",
    "client_secret = api_tokens[\"client_secret\"]\n",
    "redirectURI = api_tokens[\"redirect\"]\n",
    "username = api_tokens[\"username\"]"
   ]
  },
  {
   "cell_type": "code",
   "execution_count": 88,
   "id": "88d242c4-bc34-4ebb-a6be-9293089fe265",
   "metadata": {},
   "outputs": [],
   "source": [
    "# Set up Spotify Client with required scope for top tracks\n",
    "sp = spotipy.Spotify(auth_manager=SpotifyOAuth(client_id=client_id,\n",
    "                                               client_secret=client_secret,\n",
    "                                               redirect_uri=\"YOUR_REDIRECT_URI\",\n",
    "                                               scope=\"user-top-read\"))"
   ]
  },
  {
   "cell_type": "code",
   "execution_count": 89,
   "id": "f3776978-aea4-4770-9a67-4e387c9633c7",
   "metadata": {},
   "outputs": [],
   "source": [
    "# shopstyle Setup\n",
    "with open('shopstyle_api.txt','r') as shop_file:\n",
    "    shopstyle_key = shop_file.read()"
   ]
  },
  {
   "cell_type": "code",
   "execution_count": 90,
   "id": "0ea21a83-53ed-4006-a2ce-3ac155491826",
   "metadata": {},
   "outputs": [],
   "source": [
    "# Function to download the album image and convert it to a color format usable by OpenCV\n",
    "def url_to_image(url):\n",
    "# download the image, convert it to a Numpy array, then reverse it into OpenCV formate\n",
    "    resp = urllib.request.urlopen(url)\n",
    "    image = np.asarray(bytearray(resp.read()), dtype=\"uint8\")\n",
    "    image = cv2.imdecode(image, cv2.IMREAD_COLOR)\n",
    "    return image\n"
   ]
  },
  {
   "cell_type": "code",
   "execution_count": 91,
   "id": "daea4f0a-ec5a-4048-952c-6f7b0d165517",
   "metadata": {},
   "outputs": [],
   "source": [
    "# Function to create a histogram of colors in the image\n",
    "def find_histogram(clt):\n",
    "    \"\"\"\n",
    "    create a histogram with k clusters\n",
    "    :param: clt\n",
    "    :return:hist\n",
    "    \"\"\"\n",
    "    numLabels = np.arange(0, len(np.unique(clt.labels_)) + 1)\n",
    "    (hist, _) = np.histogram(clt.labels_, bins=numLabels)\n",
    "\n",
    "    hist = hist.astype(\"float\")\n",
    "    hist /= hist.sum()\n",
    "\n",
    "    return hist"
   ]
  },
  {
   "cell_type": "code",
   "execution_count": 77,
   "id": "367b1b34-e5e2-44df-b391-b3fd6245decf",
   "metadata": {},
   "outputs": [],
   "source": [
    "# Function to plot the top colors\n",
    "def plot_colors2(hist, centroids):\n",
    "    bar = np.zeros((50, 300, 3), dtype=\"uint8\")\n",
    "    startX = 0\n",
    "\n",
    "    for (percent, color) in zip(hist, centroids):\n",
    "        # plot the realtive percentage of each cluster\n",
    "        endX = startX + (percent * 300)\n",
    "        cv2.rectangle(bar, (int(startX), 0),(int(endX), 50),\n",
    "                     color.astype(\"uint8\").tolist(), -1)\n",
    "        startX = endX\n",
    "\n",
    "    # return the car chart\n",
    "    return bar"
   ]
  },
  {
   "cell_type": "code",
   "execution_count": 78,
   "id": "771af04b-acd7-416e-afb9-6d99eb4774e7",
   "metadata": {},
   "outputs": [],
   "source": [
    "# Function to get album colors from Spotify song\n",
    "def get_album_colors(track_name):\n",
    "    results = sp.search(q=track_name, limit=1)\n",
    "    if not results['tracks']['items']:\n",
    "        print(\"No track found.\")\n",
    "        return None\n",
    "    album_image_url = results['tracks']['items'][0]['album']['images'][0]['url']\n",
    "    image = url_to_image(album_image_url)\n",
    "    image = cv2.cvtColor(image, cv2.COLOR_BGR2RGB)\n",
    "    image = image.reshape((image.shape[0] * image.shape[1], 3))\n",
    "    clt = KMeans(n_clusters=3)  # Cluster for top 3 colors\n",
    "    clt.fit(image)\n",
    "    hist = find_histogram(clt)\n",
    "    bar = plot_colors2(hist, clt.cluster_centers_)\n",
    "    plt.axis(\"off\")\n",
    "    plt.imshow(bar)\n",
    "    plt.show()\n",
    "    return [tuple(map(int, color)) for color in clt.cluster_centers_]"
   ]
  },
  {
   "cell_type": "code",
   "execution_count": 79,
   "id": "ec08ad7d-8ec1-4a7c-af3b-6a3ba2665539",
   "metadata": {},
   "outputs": [],
   "source": [
    "# Function to convert RGB to color names (roughly)\n",
    "def rgb_to_color_name(rgb):\n",
    "    r, g, b = rgb\n",
    "    if r > 200 and g > 200 and b < 100:\n",
    "        return \"yellow\"\n",
    "    elif r < 100 and g > 200 and b > 200:\n",
    "        return \"cyan\"\n",
    "    elif r > 200 and g < 100 and b < 100:\n",
    "        return \"red\"\n",
    "    elif r < 100 and g < 100 and b > 200:\n",
    "        return \"blue\"\n",
    "    elif r > 200 and g > 100 and b < 100:\n",
    "        return \"orange\"\n",
    "    elif r < 100 and g > 100 and b < 100:\n",
    "        return \"green\"\n",
    "    else:\n",
    "        return \"neutral\""
   ]
  },
  {
   "cell_type": "code",
   "execution_count": 80,
   "id": "6ce6461c-e8e5-450c-862e-74aadf02eabb",
   "metadata": {},
   "outputs": [],
   "source": [
    "# Determine the current season based on month\n",
    "def get_current_season():\n",
    "    month = datetime.now().month\n",
    "    if month in [12, 1, 2]:\n",
    "        return \"winter\"\n",
    "    elif month in [3, 4, 5]:\n",
    "        return \"spring\"\n",
    "    elif month in [6, 7, 8]:\n",
    "        return \"summer\"\n",
    "    else:\n",
    "        return \"fall\""
   ]
  },
  {
   "cell_type": "code",
   "execution_count": 81,
   "id": "d8628052-d4f0-40cf-a762-701f2639386d",
   "metadata": {},
   "outputs": [],
   "source": [
    "# ShopStyle API call to get outfit suggestions based on color, gender and season\n",
    "def get_outfit_suggestions(color_name, gender, season, keyword=\"clothing\", limit=5):\n",
    "    url = f\"https://api.shopstyle.com/api/v2/products\"\n",
    "    params = {\n",
    "        \"pid\": shopstyle_key,\n",
    "        \"fts\": f\"{gender} {keyword} {color_name}\",  # Filter by gender, keyword, and color\n",
    "        \"offset\": 0,\n",
    "        \"limit\": limit,\n",
    "        \"sort\": \"popularity\"  # Optionally sort by popularity\n",
    "    }\n",
    "    response = requests.get(url, params=params)\n",
    "    if response.status_code == 200:\n",
    "        return response.json().get(\"products\", [])\n",
    "    else:\n",
    "        print(\"Error fetching outfits:\", response.status_code)\n",
    "        return []"
   ]
  },
  {
   "cell_type": "code",
   "execution_count": 82,
   "id": "93e50eed-9e92-4fa3-9482-fbb016090920",
   "metadata": {},
   "outputs": [],
   "source": [
    "\n",
    "# Display fetched outfit suggestions with inline images in Jupyter\n",
    "def display_outfits(outfits, color_name):\n",
    "    if outfits:\n",
    "        print(f\"Outfits for Color {color_name.capitalize()}:\")\n",
    "        for item in outfits:\n",
    "            title = item.get(\"name\")\n",
    "            price = item.get(\"priceLabel\")\n",
    "            brand = item.get(\"brand\", {}).get(\"name\")\n",
    "            link = item.get(\"clickUrl\")\n",
    "\n",
    "             # Check if \"image\" is a dictionary, and extract the actual URL string\n",
    "            image_data = item.get(\"image\", \"\")\n",
    "            image_url = image_data.get(\"sizes\", {}).get(\"Original\", {}).get(\"url\") if isinstance(image_data, dict) else image_data\n",
    "            \n",
    "            # Display outfit details\n",
    "            print(f\"Title: {title}\")\n",
    "            print(f\"Price: {price}\")\n",
    "            print(f\"Brand: {brand}\")\n",
    "            print(f\"Link: {link}\")\n",
    "            \n",
    "            # Display image inline if image_url is available and is a string\n",
    "            if isinstance(image_url, str) and image_url:\n",
    "                display(Image(url=image_url))\n",
    "            \n",
    "            print(\"\\n\" + \"-\"*50 + \"\\n\")  # Divider between items\n",
    "    else:\n",
    "        print(f\"No outfits found for color {color_name}\")"
   ]
  },
  {
   "cell_type": "code",
   "execution_count": 83,
   "id": "4838158c-620f-4b03-a3bd-0769395a1fce",
   "metadata": {},
   "outputs": [],
   "source": [
    "# Fetch top 3 tracks and generate outfits based on each song’s album color\n",
    "def generate_music_inspired_outfit_recommendations(gender):\n",
    "    # Fetch user's top 3 tracks\n",
    "    results = sp.current_user_top_tracks(limit=3)\n",
    "    top_tracks = results['items']\n",
    "    \n",
    "    # Determine current season\n",
    "    season = get_current_season()\n",
    "    \n",
    "    for track in top_tracks:\n",
    "        track_name = track['name']\n",
    "        artist_name = track['artists'][0]['name']\n",
    "        album_image_url = track['album']['images'][0]['url']\n",
    "        \n",
    "        print(f\"\\nGenerating outfit for '{track_name}' by {artist_name}\")\n",
    "        colors = get_album_colors(album_image_url)\n",
    "        color_names = [rgb_to_color_name(color) for color in colors]\n",
    "\n",
    "      # Generate outfit recommendations for each color in the album art\n",
    "        for color_name in color_names:\n",
    "            outfits = get_outfit_suggestions(color_name, gender, season)\n",
    "            display_outfits(outfits, color_name)\n",
    "\n",
    "    "
   ]
  },
  {
   "cell_type": "code",
   "execution_count": 84,
   "id": "6f7d4b6f-b275-4067-915f-b17929c4f80e",
   "metadata": {},
   "outputs": [
    {
     "name": "stdout",
     "output_type": "stream",
     "text": [
      "\n",
      "Generating outfit for 'Overcast' by Kevin MacLeod\n"
     ]
    },
    {
     "data": {
      "image/png": "[encoded data removed]",
      "text/plain": [
       "<Figure size 640x480 with 1 Axes>"
      ]
     },
     "metadata": {},
     "output_type": "display_data"
    },
    {
     "name": "stdout",
     "output_type": "stream",
     "text": [
      "Error fetching outfits: 403\n",
      "No outfits found for color neutral\n",
      "Error fetching outfits: 403\n",
      "No outfits found for color neutral\n",
      "Error fetching outfits: 403\n",
      "No outfits found for color neutral\n",
      "\n",
      "Generating outfit for 'Story of My Life' by One Direction\n"
     ]
    },
    {
     "data": {
      "image/png": "[encoded data removed]",
      "text/plain": [
       "<Figure size 640x480 with 1 Axes>"
      ]
     },
     "metadata": {},
     "output_type": "display_data"
    },
    {
     "name": "stdout",
     "output_type": "stream",
     "text": [
      "Error fetching outfits: 403\n",
      "No outfits found for color neutral\n",
      "Error fetching outfits: 403\n",
      "No outfits found for color neutral\n",
      "Error fetching outfits: 403\n",
      "No outfits found for color neutral\n",
      "\n",
      "Generating outfit for 'Night Changes' by One Direction\n"
     ]
    },
    {
     "data": {
      "image/png": "[encoded data removed]",
      "text/plain": [
       "<Figure size 640x480 with 1 Axes>"
      ]
     },
     "metadata": {},
     "output_type": "display_data"
    },
    {
     "name": "stdout",
     "output_type": "stream",
     "text": [
      "Error fetching outfits: 403\n",
      "No outfits found for color red\n",
      "Error fetching outfits: 403\n",
      "No outfits found for color neutral\n",
      "Error fetching outfits: 403\n",
      "No outfits found for color neutral\n"
     ]
    }
   ],
   "source": [
    "# Run the function with an example track and specified gender\n",
    "generate_music_inspired_outfit_recommendations(\"women\")  # Change \"men\" to \"women\" as needed"
   ]
  },
  {
   "cell_type": "code",
   "execution_count": null,
   "id": "345715a1-37a9-4b3b-aaf2-d72798d420a8",
   "metadata": {},
   "outputs": [],
   "source": []
  }
 ],
 "metadata": {
  "kernelspec": {
   "display_name": "Python 3 (ipykernel)",
   "language": "python",
   "name": "python3"
  },
  "language_info": {
   "codemirror_mode": {
    "name": "ipython",
    "version": 3
   },
   "file_extension": ".py",
   "mimetype": "text/x-python",
   "name": "python",
   "nbconvert_exporter": "python",
   "pygments_lexer": "ipython3",
   "version": "3.12.7"
  }
 },
 "nbformat": 4,
 "nbformat_minor": 5
}

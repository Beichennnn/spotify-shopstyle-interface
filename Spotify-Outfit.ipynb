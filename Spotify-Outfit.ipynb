{
 "cells": [
  {
   "cell_type": "code",
   "execution_count": 1,
   "id": "31132bf8-d74c-4ca4-b4cb-3aec4f82832e",
   "metadata": {},
   "outputs": [],
   "source": [
    "import spotipy\n",
    "from matplotlib import pyplot as plt\n",
    "from spotipy.oauth2 import SpotifyOAuth\n",
    "import urllib\n",
    "import spotipy.util as util\n",
    "import numpy as np\n",
    "import cv2\n",
    "import json\n",
    "import requests\n",
    "import pandas as pd\n",
    "from IPython.display import Image, display\n",
    "from sklearn.cluster import KMeans\n",
    "\n",
    "from datetime import datetime\n"
   ]
  },
  {
   "cell_type": "code",
   "execution_count": 2,
   "id": "470c1122-a6f0-4c52-b6b2-97b1ab4a67de",
   "metadata": {},
   "outputs": [],
   "source": [
    "# Spotify Credentials Setup\n",
    "credentials = \"spotify_keys.json\"\n",
    "with open(credentials, \"r\") as keys:\n",
    "    api_tokens = json.load(keys)\n",
    "\n",
    "client_id = api_tokens[\"client_id\"]\n",
    "client_secret = api_tokens[\"client_secret\"]\n",
    "redirectURI = api_tokens[\"redirect\"]\n",
    "username = api_tokens[\"username\"]"
   ]
  },
  {
   "cell_type": "code",
   "execution_count": 3,
   "id": "88d242c4-bc34-4ebb-a6be-9293089fe265",
   "metadata": {},
   "outputs": [],
   "source": [
    "# Set up Spotify Client with required scope for top tracks\n",
    "sp = spotipy.Spotify(auth_manager=SpotifyOAuth(client_id=client_id,\n",
    "                                               client_secret=client_secret,\n",
    "                                               redirect_uri=redirectURI,\n",
    "                                               scope=\"user-top-read\"))"
   ]
  },
  {
   "cell_type": "code",
   "execution_count": 4,
   "id": "f3776978-aea4-4770-9a67-4e387c9633c7",
   "metadata": {},
   "outputs": [],
   "source": [
    "# shopstyle Setup\n",
    "with open('shopstyle_api.txt','r') as shop_file:\n",
    "    shopstyle_key = shop_file.read()"
   ]
  },
  {
   "cell_type": "code",
   "execution_count": 5,
   "id": "0ea21a83-53ed-4006-a2ce-3ac155491826",
   "metadata": {},
   "outputs": [],
   "source": [
    "# Function to download the album image and convert it to a color format usable by OpenCV\n",
    "def url_to_image(url):\n",
    "# download the image, convert it to a Numpy array, then reverse it into OpenCV formate\n",
    "    resp = urllib.request.urlopen(url)\n",
    "    image = np.asarray(bytearray(resp.read()), dtype=\"uint8\")\n",
    "    image = cv2.imdecode(image, cv2.IMREAD_COLOR)\n",
    "    return image\n"
   ]
  },
  {
   "cell_type": "code",
   "execution_count": 6,
   "id": "daea4f0a-ec5a-4048-952c-6f7b0d165517",
   "metadata": {},
   "outputs": [],
   "source": [
    "# Function to create a histogram of colors in the image\n",
    "def find_histogram(clt):\n",
    "    \"\"\"\n",
    "    create a histogram with k clusters\n",
    "    :param: clt\n",
    "    :return:hist\n",
    "    \"\"\"\n",
    "    numLabels = np.arange(0, len(np.unique(clt.labels_)) + 1)\n",
    "    (hist, _) = np.histogram(clt.labels_, bins=numLabels)\n",
    "\n",
    "    hist = hist.astype(\"float\")\n",
    "    hist /= hist.sum()\n",
    "\n",
    "    return hist"
   ]
  },
  {
   "cell_type": "code",
   "execution_count": 7,
   "id": "367b1b34-e5e2-44df-b391-b3fd6245decf",
   "metadata": {},
   "outputs": [],
   "source": [
    "# Function to plot the top colors\n",
    "def plot_colors2(hist, centroids, song_title):\n",
    "    bar = np.zeros((50, 300, 3), dtype=\"uint8\")\n",
    "    startX = 0\n",
    "\n",
    "    for (percent, color) in zip(hist, centroids):\n",
    "        # plot the realtive percentage of each cluster\n",
    "        endX = startX + (percent * 300)\n",
    "        cv2.rectangle(bar, (int(startX), 0),(int(endX), 50), color.astype(\"uint8\").tolist(), -1)\n",
    "        startX = endX\n",
    "\n",
    "    # Display the color bar with the song title\n",
    "    plt.figure(figsize=(8, 2))\n",
    "    plt.axis(\"off\")\n",
    "    plt.title(f\"Color Bar for '{song_title}'\")\n",
    "    plt.imshow(bar)\n",
    "    plt.show()"
   ]
  },
  {
   "cell_type": "code",
   "execution_count": 8,
   "id": "771af04b-acd7-416e-afb9-6d99eb4774e7",
   "metadata": {},
   "outputs": [],
   "source": [
    "# Function to get album colors from Spotify song\n",
    "def get_album_colors(album_image_url,song_title):\n",
    "    image = url_to_image(album_image_url)\n",
    "    image = cv2.cvtColor(image, cv2.COLOR_BGR2RGB)\n",
    "    image = image.reshape((image.shape[0] * image.shape[1], 3))\n",
    "    clt = KMeans(n_clusters=3)  # Cluster for top 3 colors\n",
    "    clt.fit(image)\n",
    "    hist = find_histogram(clt)\n",
    "    return [tuple(map(int, color)) for color in clt.cluster_centers_]\n",
    "\n",
    "\n",
    "# Function to display album colors from Spotify song\n",
    "def display_album_colors(album_image_url,song_title):\n",
    "    image = url_to_image(album_image_url)\n",
    "    image = cv2.cvtColor(image, cv2.COLOR_BGR2RGB)\n",
    "    image = image.reshape((image.shape[0] * image.shape[1], 3))\n",
    "    clt = KMeans(n_clusters=3)  # Cluster for top 3 colors\n",
    "    clt.fit(image)\n",
    "    hist = find_histogram(clt)\n",
    "    # Show color bar for each song\n",
    "    plot_colors2(hist, clt.cluster_centers_, song_title)  "
   ]
  },
  {
   "cell_type": "code",
   "execution_count": 9,
   "id": "5eeb72cc-d823-4069-9256-e190b801151c",
   "metadata": {},
   "outputs": [
    {
     "name": "stdout",
     "output_type": "stream",
     "text": [
      "0.0 1.0 1.0\n"
     ]
    }
   ],
   "source": [
    "# Test colorsys function\n",
    "import colorsys\n",
    "rgb=[255,0,0]\n",
    "r, g, b = rgb[0] / 255, rgb[1] / 255, rgb[2] / 255\n",
    "h, s, v = colorsys.rgb_to_hsv(r, g, b)\n",
    "\n",
    "print(h,s,v)"
   ]
  },
  {
   "cell_type": "code",
   "execution_count": 10,
   "id": "ec08ad7d-8ec1-4a7c-af3b-6a3ba2665539",
   "metadata": {},
   "outputs": [],
   "source": [
    "# Function to convert RGB to color names (use hue to define the color range)\n",
    "def rgb_to_color_name(rgb):\n",
    "    import colorsys\n",
    "    \n",
    "    r, g, b = rgb[0] / 255, rgb[1] / 255, rgb[2] / 255\n",
    "    h, s, v = colorsys.rgb_to_hsv(r, g, b)\n",
    "    \n",
    "    if v < 0.2:\n",
    "        return \"Black\"\n",
    "    elif v > 0.9 and s < 0.1:\n",
    "        return \"White\"\n",
    "    elif s < 0.1:\n",
    "        return \"Grey\"\n",
    "    \n",
    "    # Convert hue from 0-1 to 0-360 for easier mapping\n",
    "    hue_360 = h * 360\n",
    "\n",
    "    # Define more refined ranges for colors\n",
    "    if 0 <= hue_360 < 15 or 345 <= hue_360 <= 360:\n",
    "        return \"Red\"\n",
    "    elif 15 <= hue_360 < 30:\n",
    "        return \"Red-Orange\"\n",
    "    elif 30 <= hue_360 < 45:\n",
    "        return \"Orange\"\n",
    "    elif 45 <= hue_360 < 60:\n",
    "        return \"Yellow-Orange\"\n",
    "    elif 60 <= hue_360 < 90:\n",
    "        return \"Yellow\"\n",
    "    elif 90 <= hue_360 < 120:\n",
    "        return \"Yellow-Green\"\n",
    "    elif 120 <= hue_360 < 150:\n",
    "        return \"Green\"\n",
    "    elif 150 <= hue_360 < 180:\n",
    "        return \"Green-Cyan\"\n",
    "    elif 180 <= hue_360 < 210:\n",
    "        return \"Cyan\"\n",
    "    elif 210 <= hue_360 < 240:\n",
    "        return \"Blue-Cyan\"\n",
    "    elif 240 <= hue_360 < 270:\n",
    "        return \"Blue\"\n",
    "    elif 270 <= hue_360 < 300:\n",
    "        return \"Blue-Purple\"\n",
    "    elif 300 <= hue_360 < 330:\n",
    "        return \"Purple\"\n",
    "    elif 330 <= hue_360 < 345:\n",
    "        return \"Pink-Purple\"\n",
    "    else:\n",
    "        return \"Unknown color\"\n",
    "\n",
    "# print(rgb_to_color_name((165, 81, 75))) \n",
    "# print(rgb_to_color_name((252, 222, 239)))\n",
    "# print(rgb_to_color_name((4, 3, 3)))"
   ]
  },
  {
   "cell_type": "code",
   "execution_count": 11,
   "id": "6ce6461c-e8e5-450c-862e-74aadf02eabb",
   "metadata": {},
   "outputs": [
    {
     "data": {
      "text/plain": [
       "'fall'"
      ]
     },
     "execution_count": 11,
     "metadata": {},
     "output_type": "execute_result"
    }
   ],
   "source": [
    "# Determine the current season based on current month\n",
    "def get_current_season():\n",
    "    month = datetime.now().month\n",
    "    if month in [12, 1, 2]:\n",
    "        return \"winter\"\n",
    "    elif month in [3, 4, 5]:\n",
    "        return \"spring\"\n",
    "    elif month in [6, 7, 8]:\n",
    "        return \"summer\"\n",
    "    else:\n",
    "        return \"fall\"\n",
    "        \n",
    "get_current_season()"
   ]
  },
  {
   "cell_type": "code",
   "execution_count": 12,
   "id": "627052c1-1d3a-40de-8ad3-30c39ccbfa08",
   "metadata": {},
   "outputs": [
    {
     "name": "stdout",
     "output_type": "stream",
     "text": [
      "\n",
      "Testing Sort Option: popularity\n",
      "Sort Option 'popularity': Success\n",
      " - Falls Jumpsuit | Price: $118\n",
      " - Falling Poppies Petra Stretch Silk Button-Front Top | Price: $395\n",
      " - Marcia Jersey Midi Shirt Dress | Price: $130\n",
      "\n",
      "Testing Sort Option: price\n",
      "Sort Option 'price': Success\n",
      " - Falls Jumpsuit | Price: $118\n",
      " - Falling Poppies Petra Stretch Silk Button-Front Top | Price: $395\n",
      " - Marcia Jersey Midi Shirt Dress | Price: $130\n",
      "\n",
      "Testing Sort Option: price_desc\n",
      "Sort Option 'price_desc': Success\n",
      " - Falls Jumpsuit | Price: $118\n",
      " - Falling Poppies Petra Stretch Silk Button-Front Top | Price: $395\n",
      " - Marcia Jersey Midi Shirt Dress | Price: $130\n",
      "\n",
      "Testing Sort Option: new\n",
      "Sort Option 'new': Success\n",
      " - Falls Jumpsuit | Price: $118\n",
      " - Falling Poppies Petra Stretch Silk Button-Front Top | Price: $395\n",
      " - Marcia Jersey Midi Shirt Dress | Price: $130\n",
      "\n",
      "Testing Sort Option: relevance\n",
      "Sort Option 'relevance': Success\n",
      " - Falls Jumpsuit | Price: $118\n",
      " - Falling Poppies Petra Stretch Silk Button-Front Top | Price: $395\n",
      " - Marcia Jersey Midi Shirt Dress | Price: $130\n"
     ]
    }
   ],
   "source": [
    "# List of sort options to experiment with\n",
    "sort_options = [\"popularity\", \"price\", \"price_desc\", \"new\", \"relevance\"]\n",
    "\n",
    "# Function to make an API call with a specific sort option\n",
    "def test_sort_option(sort_value, gender=\"women\", season=\"fall\", color=\"black\", limit=3):\n",
    "    url = f\"https://api.shopstyle.com/api/v2/products\"\n",
    "    params = {\n",
    "        \"pid\": shopstyle_key,\n",
    "        \"fts\": f\"{gender} {season} {color} clothing\",\n",
    "        \"offset\": 0,\n",
    "        \"limit\": limit,\n",
    "        \"sort\": sort_value\n",
    "    }\n",
    "    response = requests.get(url, params=params)\n",
    "    if response.status_code == 200:\n",
    "        print(f\"Sort Option '{sort_value}': Success\")\n",
    "        data = response.json().get(\"products\", [])\n",
    "        if data:\n",
    "            # Display product titles to verify results\n",
    "            for item in data:\n",
    "                print(f\" - {item['name']} | Price: {item.get('priceLabel', 'N/A')}\")\n",
    "        else:\n",
    "            print(\"No products found.\")\n",
    "    else:\n",
    "        print(f\"Sort Option '{sort_value}': Failed with status code {response.status_code}\")\n",
    "\n",
    "# Loop through each sort option and test it\n",
    "for sort_value in sort_options:\n",
    "    print(f\"\\nTesting Sort Option: {sort_value}\")\n",
    "    test_sort_option(sort_value)"
   ]
  },
  {
   "cell_type": "code",
   "execution_count": 13,
   "id": "d8628052-d4f0-40cf-a762-701f2639386d",
   "metadata": {},
   "outputs": [],
   "source": [
    "# ShopStyle API call to get outfit suggestions based on combined color names, gender, and season\n",
    "def get_outfit_suggestions(combined_colors, gender, season, keyword=\"clothing\", limit=5,sort_by=\"popularity\"):\n",
    "    if combined_colors in [\"white gray black\", \"gray black white\", \"black gray white\"]:\n",
    "        combined_colors = \"neutral tones\"  # Use a broad, fashion-related term for neutral tones\n",
    "\n",
    "    url = f\"https://api.shopstyle.com/api/v2/products\"\n",
    "    params = {\n",
    "        \"pid\": shopstyle_key,\n",
    "        \"fts\": f\"{gender} {season} {keyword} {combined_colors}\",\n",
    "        \"offset\": 0,\n",
    "        \"limit\": limit,\n",
    "        \"sort\": sort_by\n",
    "    }\n",
    "    response = requests.get(url, params=params)\n",
    "    if response.status_code == 200:\n",
    "        return response.json().get(\"products\", [])\n",
    "    else:\n",
    "        print(\"Error fetching outfits:\", response.status_code)\n",
    "        return []"
   ]
  },
  {
   "cell_type": "code",
   "execution_count": 14,
   "id": "71c07665-104c-4c9e-948b-6c157539acf3",
   "metadata": {},
   "outputs": [],
   "source": [
    "# Modified display_outfits function with fallback to sample item if no outfits found\n",
    "def display_outfits(outfits, color_names):\n",
    "    # If no outfits are found, fetch a sample outfit in the primary color\n",
    "    if not outfits:\n",
    "        primary_color = color_names[0]  # Use the first color as the main color for the sample item\n",
    "        print(f\"No outfits found for color scheme: {', '.join(color_names).capitalize()}. Fetching a sample {primary_color} outfit...\")\n",
    "        outfits = get_sample_clothing_by_color(primary_color)\n",
    "\n",
    "    # Display the outfits (whether from the original query or a sample)\n",
    "    if outfits:\n",
    "        print(f\"Outfits for Color Scheme: {', '.join(color_names).capitalize()}\")\n",
    "        for item in outfits:\n",
    "            title = item.get(\"name\")\n",
    "            price = item.get(\"priceLabel\")\n",
    "            brand = item.get(\"brand\", {}).get(\"name\")\n",
    "            link = item.get(\"clickUrl\")\n",
    "            \n",
    "            # Check if \"image\" is a dictionary, and extract the actual URL string\n",
    "            image_data = item.get(\"image\", \"\")\n",
    "            image_url = image_data.get(\"sizes\", {}).get(\"Original\", {}).get(\"url\") if isinstance(image_data, dict) else image_data\n",
    "            \n",
    "            # Display outfit details\n",
    "            print(f\"Title: {title}\")\n",
    "            print(f\"Price: {price}\")\n",
    "            print(f\"Brand: {brand}\")\n",
    "            print(f\"Link: {link}\")\n",
    "            \n",
    "            # Display image inline if image_url is available and is a string\n",
    "            if isinstance(image_url, str) and image_url:\n",
    "                display(Image(url=image_url, width=150))\n",
    "            \n",
    "            print(\"\\n\" + \"-\"*50 + \"\\n\")  # Divider between items\n",
    "    else:\n",
    "        print(f\"No sample outfits found for color scheme: {', '.join(color_names).capitalize()}\")"
   ]
  },
  {
   "cell_type": "code",
   "execution_count": 15,
   "id": "8eefc228-5e56-44e6-bc49-4fbd61074b97",
   "metadata": {},
   "outputs": [
    {
     "name": "stdout",
     "output_type": "stream",
     "text": [
      "Outfits for Color Scheme: Black\n",
      "Title: Falls Jumpsuit\n",
      "Price: $118\n",
      "Brand: vuori\n",
      "Link: https://api.shopstyle.com/action/apiVisitRetailer?id=953937704&pid=uid1241-46108024-89\n"
     ]
    },
    {
     "data": {
      "text/html": [
       "<img src=\"https://img.shopstyle-cdn.com/sim/3c/0c/3c0c05c527908847aa3eb015ce1004db_best/falls-jumpsuit.jpg\" width=\"150\"/>"
      ],
      "text/plain": [
       "<IPython.core.display.Image object>"
      ]
     },
     "metadata": {},
     "output_type": "display_data"
    },
    {
     "name": "stdout",
     "output_type": "stream",
     "text": [
      "\n",
      "--------------------------------------------------\n",
      "\n"
     ]
    }
   ],
   "source": [
    "# Function to get a sample black clothing item from ShopStyle API\n",
    "def get_black_clothing_sample(gender=\"women\", season=\"fall\", keyword=\"black clothing\", limit=1,sort_by=\"popularity\"):\n",
    "    url = f\"https://api.shopstyle.com/api/v2/products\"\n",
    "    params = {\n",
    "        \"pid\": shopstyle_key,\n",
    "        \"fts\": f\"{gender} {season} {keyword}\",\n",
    "        \"offset\": 0,\n",
    "        \"limit\": limit,\n",
    "        \"sort\": \"popularity\"\n",
    "    }\n",
    "    response = requests.get(url, params=params)\n",
    "    if response.status_code == 200:\n",
    "        return response.json().get(\"products\", [])\n",
    "    else:\n",
    "        print(\"Error fetching black clothing:\", response.status_code)\n",
    "        return []\n",
    "\n",
    "# Testing the display_outfits function with a real black clothing item from ShopStyle\n",
    "black_outfits = get_black_clothing_sample(gender=\"women\", season=\"fall\", keyword=\"black clothing\",sort_by=\"popularity\")\n",
    "display_outfits(black_outfits, [\"black\"])\n"
   ]
  },
  {
   "cell_type": "code",
   "execution_count": 16,
   "id": "93e50eed-9e92-4fa3-9482-fbb016090920",
   "metadata": {},
   "outputs": [],
   "source": [
    "# Helper function to get a sample clothing item by color from ShopStyle API\n",
    "def get_sample_clothing_by_color(color, gender=\"women\", season=\"fall\", limit=1):\n",
    "    url = f\"https://api.shopstyle.com/api/v2/products\"\n",
    "    params = {\n",
    "        \"pid\": shopstyle_key,\n",
    "        \"fts\": f\"{gender} {season} {color} clothing\",\n",
    "        \"offset\": 0,\n",
    "        \"limit\": limit,\n",
    "        \"sort\": \"popularity\"\n",
    "    }\n",
    "    response = requests.get(url, params=params)\n",
    "    if response.status_code == 200:\n",
    "        return response.json().get(\"products\", [])\n",
    "    else:\n",
    "        print(f\"Error fetching {color} clothing:\", response.status_code)\n",
    "        return []\n"
   ]
  },
  {
   "cell_type": "code",
   "execution_count": 17,
   "id": "4838158c-620f-4b03-a3bd-0769395a1fce",
   "metadata": {},
   "outputs": [
    {
     "name": "stdout",
     "output_type": "stream",
     "text": [
      "Top 3 Selected Songs with Color Bars:\n",
      "\n",
      "'Overcast' by Kevin MacLeod\n",
      "\n",
      "'Espresso' by Sabrina Carpenter\n",
      "\n",
      "'Viva La Vida' by Coldplay\n",
      "\n",
      "'Video Games' by Lana Del Rey\n",
      "[{'track_name': 'Overcast', 'artist_name': 'Kevin MacLeod', 'album_image_url': 'https://i.scdn.co/image/ab67616d0000b2735acd0df739682efabb292b87', 'colors': [(186, 91, 8), (251, 220, 238), (121, 60, 95)], 'color_names': ['Red-Orange', 'Purple', 'Purple']}, {'track_name': 'Espresso', 'artist_name': 'Sabrina Carpenter', 'album_image_url': 'https://i.scdn.co/image/ab67616d0000b273659cd4673230913b3918e0d5', 'colors': [(190, 205, 213), (42, 34, 36), (203, 136, 102)], 'color_names': ['Cyan', 'Black', 'Red-Orange']}, {'track_name': 'Viva La Vida', 'artist_name': 'Coldplay', 'album_image_url': 'https://i.scdn.co/image/ab67616d0000b273be592342bbc8e3bfce593b16', 'colors': [(209, 203, 193), (33, 27, 29), (125, 104, 86)], 'color_names': ['Grey', 'Black', 'Red-Orange']}, {'track_name': 'Video Games', 'artist_name': 'Lana Del Rey', 'album_image_url': 'https://i.scdn.co/image/ab67616d0000b273ebc8cfac8b586bc475b04918', 'colors': [(63, 49, 25), (230, 214, 162), (143, 131, 103)], 'color_names': ['Orange', 'Yellow-Orange', 'Orange']}]\n"
     ]
    }
   ],
   "source": [
    "# Main function to get selected songs and color bars\n",
    "def get_top_songs_colors():\n",
    "    # Fetch user's top 3 tracks\n",
    "    results = sp.current_user_top_tracks(limit=4)\n",
    "    top_tracks = results['items']\n",
    "    \n",
    "    out_data = []\n",
    "    print(\"Top 3 Selected Songs with Color Bars:\")\n",
    "    for track in top_tracks:\n",
    "        track_name = track['name']\n",
    "        artist_name = track['artists'][0]['name']\n",
    "        album_image_url = track['album']['images'][0]['url']\n",
    "        \n",
    "        # Print the song and artist name\n",
    "        print(f\"\\n'{track_name}' by {artist_name}\")\n",
    "        \n",
    "        # Display color bar for each song\n",
    "        colors = get_album_colors(album_image_url, track_name)\n",
    "        color_names = [rgb_to_color_name(color) for color in colors]\n",
    "        \n",
    "        data = {\n",
    "            \"track_name\":track_name,\n",
    "            \"artist_name\":artist_name,\n",
    "            \"album_image_url\":album_image_url,\n",
    "            \"colors\":colors,\n",
    "            \"color_names\":color_names\n",
    "        }\n",
    "        out_data.append(data)\n",
    "\n",
    "    return out_data\n",
    "# get_top_songs_colors return: out_data is a list.\n",
    "\n",
    "top_songs_colors = get_top_songs_colors()\n",
    "print(top_songs_colors)"
   ]
  },
  {
   "cell_type": "code",
   "execution_count": 18,
   "id": "a0edbbca-eb2e-4652-8572-347a64b6daf5",
   "metadata": {},
   "outputs": [
    {
     "name": "stdout",
     "output_type": "stream",
     "text": [
      "Song name: Overcast\n"
     ]
    },
    {
     "data": {
      "text/html": [
       "<img src=\"https://i.scdn.co/image/ab67616d0000b2735acd0df739682efabb292b87\" width=\"200\"/>"
      ],
      "text/plain": [
       "<IPython.core.display.Image object>"
      ]
     },
     "metadata": {},
     "output_type": "display_data"
    },
    {
     "data": {
      "image/png": "[encoded data removed]",
      "text/plain": [
       "<Figure size 800x200 with 1 Axes>"
      ]
     },
     "metadata": {},
     "output_type": "display_data"
    },
    {
     "name": "stdout",
     "output_type": "stream",
     "text": [
      "Song name: Espresso\n"
     ]
    },
    {
     "data": {
      "text/html": [
       "<img src=\"https://i.scdn.co/image/ab67616d0000b273659cd4673230913b3918e0d5\" width=\"200\"/>"
      ],
      "text/plain": [
       "<IPython.core.display.Image object>"
      ]
     },
     "metadata": {},
     "output_type": "display_data"
    },
    {
     "data": {
      "image/png": "[encoded data removed]",
      "text/plain": [
       "<Figure size 800x200 with 1 Axes>"
      ]
     },
     "metadata": {},
     "output_type": "display_data"
    },
    {
     "name": "stdout",
     "output_type": "stream",
     "text": [
      "Song name: Viva La Vida\n"
     ]
    },
    {
     "data": {
      "text/html": [
       "<img src=\"https://i.scdn.co/image/ab67616d0000b273be592342bbc8e3bfce593b16\" width=\"200\"/>"
      ],
      "text/plain": [
       "<IPython.core.display.Image object>"
      ]
     },
     "metadata": {},
     "output_type": "display_data"
    },
    {
     "data": {
      "image/png": "[encoded data removed]",
      "text/plain": [
       "<Figure size 800x200 with 1 Axes>"
      ]
     },
     "metadata": {},
     "output_type": "display_data"
    },
    {
     "name": "stdout",
     "output_type": "stream",
     "text": [
      "Song name: Video Games\n"
     ]
    },
    {
     "data": {
      "text/html": [
       "<img src=\"https://i.scdn.co/image/ab67616d0000b273ebc8cfac8b586bc475b04918\" width=\"200\"/>"
      ],
      "text/plain": [
       "<IPython.core.display.Image object>"
      ]
     },
     "metadata": {},
     "output_type": "display_data"
    },
    {
     "data": {
      "image/png": "[encoded data removed]",
      "text/plain": [
       "<Figure size 800x200 with 1 Axes>"
      ]
     },
     "metadata": {},
     "output_type": "display_data"
    }
   ],
   "source": [
    "def display_top_songs_colors(in_data):\n",
    "    for data in in_data:\n",
    "        image_url = data[\"album_image_url\"]\n",
    "        print(\"Song name: \" + data['track_name'])\n",
    "        # display album pic\n",
    "        if isinstance(image_url, str) and image_url:\n",
    "            display(Image(url=image_url, width=200))\n",
    "        # display album color bar\n",
    "        display_album_colors(image_url, data[\"track_name\"])\n",
    "\n",
    "    \n",
    "display_top_songs_colors(top_songs_colors)"
   ]
  },
  {
   "cell_type": "code",
   "execution_count": 19,
   "id": "6a8f03df-eb82-4da3-b30f-c12f0bf59475",
   "metadata": {},
   "outputs": [],
   "source": [
    "# Generate and display outfit recommendations based on combined color scheme\n",
    "def display_top_songs_colors_and_outfits(gender, in_data, sort_by=\"popularity\"):\n",
    "    for data in in_data:\n",
    "        color_names = data[\"color_names\"]\n",
    "        combined_colors = \" \".join(color_names)  # Combine color names into a single search term\n",
    "        print(f\"\\nOutfit Recommendations for '{data['track_name']}' by {data['artist_name']} with colors {combined_colors.capitalize()}:\")\n",
    "\n",
    "        # First attempt with the full color scheme\n",
    "        outfits = get_outfit_suggestions(combined_colors, gender, get_current_season(), sort_by=sort_by)\n",
    "        # If no outfits found, try each color individually as a fallback\n",
    "        if not outfits:\n",
    "            print(f\"No outfits found for color scheme: {combined_colors.capitalize()}. Trying broader search terms...\")\n",
    "            outfits = get_outfit_suggestions(\"neutral outfit\" if \"neutral\" in combined_colors else combined_colors, gender, get_current_season())\n",
    "                \n",
    "            if outfits:\n",
    "                display_outfits(outfits, [color_name])\n",
    "            else:\n",
    "                print(f\"No outfits found even with broader search terms for: {', '.join(color_names).capitalize()}\")\n",
    "        else:\n",
    "            display_outfits(outfits, color_names)"
   ]
  },
  {
   "cell_type": "code",
   "execution_count": 20,
   "id": "6f7d4b6f-b275-4067-915f-b17929c4f80e",
   "metadata": {},
   "outputs": [
    {
     "name": "stdout",
     "output_type": "stream",
     "text": [
      "\n",
      "Outfit Recommendations for 'Overcast' by Kevin MacLeod with colors Red-orange purple purple:\n",
      "Outfits for Color Scheme: Red-orange, purple, purple\n",
      "Title: 24SEVEN COMFORT APPAREL 24/7 Comfort Apparel Midi Length Fit And Flare Pocket Dress\n",
      "Price: $39.99\n",
      "Brand: None\n",
      "Link: https://api.shopstyle.com/action/apiVisitRetailer?id=830306335&pid=uid1241-46108024-89\n"
     ]
    },
    {
     "data": {
      "text/html": [
       "<img src=\"https://img.shopstyle-cdn.com/sim/5e/4b/5e4bfba5aca61b9def5cf5cc71942eee_best/24seven-comfort-apparel-24-7-comfort-apparel-midi-length-fit-and-flare-pocket-dress.jpg\" width=\"150\"/>"
      ],
      "text/plain": [
       "<IPython.core.display.Image object>"
      ]
     },
     "metadata": {},
     "output_type": "display_data"
    },
    {
     "name": "stdout",
     "output_type": "stream",
     "text": [
      "\n",
      "--------------------------------------------------\n",
      "\n",
      "Title: Boxercraft Women's Baby Rib T-Shirt\n",
      "Price: $128.52\n",
      "Brand: None\n",
      "Link: https://api.shopstyle.com/action/apiVisitRetailer?id=1072962963&pid=uid1241-46108024-89\n"
     ]
    },
    {
     "data": {
      "text/html": [
       "<img src=\"https://img.shopstyle-cdn.com/sim/8b/9d/8b9da106f128204256160f5348733717_best/boxercraft-womens-baby-rib-t-shirt.jpg\" width=\"150\"/>"
      ],
      "text/plain": [
       "<IPython.core.display.Image object>"
      ]
     },
     "metadata": {},
     "output_type": "display_data"
    },
    {
     "name": "stdout",
     "output_type": "stream",
     "text": [
      "\n",
      "--------------------------------------------------\n",
      "\n",
      "Title: Women's Diana Ruched One-Shoulder Gown - Ivory - Size XXS\n",
      "Price: $215\n",
      "Brand: Norma Kamali\n",
      "Link: https://api.shopstyle.com/action/apiVisitRetailer?id=868914994&pid=uid1241-46108024-89\n"
     ]
    },
    {
     "data": {
      "text/html": [
       "<img src=\"https://img.shopstyle-cdn.com/sim/e8/b7/e8b77da709debe50c80fcf618718c17b_best/womens-diana-ruched-one-shoulder-gown-ivory-size-xxs.jpg\" width=\"150\"/>"
      ],
      "text/plain": [
       "<IPython.core.display.Image object>"
      ]
     },
     "metadata": {},
     "output_type": "display_data"
    },
    {
     "name": "stdout",
     "output_type": "stream",
     "text": [
      "\n",
      "--------------------------------------------------\n",
      "\n",
      "Title: GREGG Womens Drawstring Hooded Comfy Sweatshirt Solid Color Long Sleeve Pullover Shirts Holiday Party Loose Fall Sweatshirt(Red\n",
      "Price: $20.99\n",
      "Brand: None\n",
      "Link: https://api.shopstyle.com/action/apiVisitRetailer?id=1005264838&pid=uid1241-46108024-89\n"
     ]
    },
    {
     "data": {
      "text/html": [
       "<img src=\"https://img.shopstyle-cdn.com/sim/e3/0a/e30a42c82ad027fb664c25ca8749dd74_best/gregg-womens-drawstring-hooded-comfy-sweatshirt-solid-color-long-sleeve-pullover-shirts-holiday-party-loose-fall-sweatshirt-red.jpg\" width=\"150\"/>"
      ],
      "text/plain": [
       "<IPython.core.display.Image object>"
      ]
     },
     "metadata": {},
     "output_type": "display_data"
    },
    {
     "name": "stdout",
     "output_type": "stream",
     "text": [
      "\n",
      "--------------------------------------------------\n",
      "\n",
      "Title: Geleglaer Womens Half Zip Sweatshirts Cropped Pullover Fleece Quarter Zipper Tops Spring Fall Hoodie outfits Thumb Hole\n",
      "Price: $30.99\n",
      "Brand: None\n",
      "Link: https://api.shopstyle.com/action/apiVisitRetailer?id=1031483022&pid=uid1241-46108024-89\n"
     ]
    },
    {
     "data": {
      "text/html": [
       "<img src=\"https://img.shopstyle-cdn.com/sim/94/62/946223b2762c4da5577c9356202a612e_best/geleglaer-womens-half-zip-sweatshirts-cropped-pullover-fleece-quarter-zipper-tops-spring-fall-hoodie-outfits-thumb-hole.jpg\" width=\"150\"/>"
      ],
      "text/plain": [
       "<IPython.core.display.Image object>"
      ]
     },
     "metadata": {},
     "output_type": "display_data"
    },
    {
     "name": "stdout",
     "output_type": "stream",
     "text": [
      "\n",
      "--------------------------------------------------\n",
      "\n",
      "\n",
      "Outfit Recommendations for 'Espresso' by Sabrina Carpenter with colors Cyan black red-orange:\n",
      "Outfits for Color Scheme: Cyan, black, red-orange\n",
      "Title: BLAFT Women's Fashion Casual Valentine's Day Long Sleeve Sweatshirt Heart Print Plush Crew Neck Oversized Pullover Tops\n",
      "Price: $20.57\n",
      "Brand: None\n",
      "Link: https://api.shopstyle.com/action/apiVisitRetailer?id=1005225106&pid=uid1241-46108024-89\n"
     ]
    },
    {
     "data": {
      "text/html": [
       "<img src=\"https://img.shopstyle-cdn.com/sim/98/28/9828c88548ba20a8930391f3a1baa2ed_best/blaft-womens-fashion-casual-valentines-day-long-sleeve-sweatshirt-heart-print-plush-crew-neck-oversized-pullover-tops.jpg\" width=\"150\"/>"
      ],
      "text/plain": [
       "<IPython.core.display.Image object>"
      ]
     },
     "metadata": {},
     "output_type": "display_data"
    },
    {
     "name": "stdout",
     "output_type": "stream",
     "text": [
      "\n",
      "--------------------------------------------------\n",
      "\n",
      "Title: ZWSPTO Women's Floral Color Block Printed Long Sleeve Pullover Hoodies Sweatshirt Sweaters Tops Mint Green\n",
      "Price: $22.99\n",
      "Brand: None\n",
      "Link: https://api.shopstyle.com/action/apiVisitRetailer?id=1029365276&pid=uid1241-46108024-89\n"
     ]
    },
    {
     "data": {
      "text/html": [
       "<img src=\"https://img.shopstyle-cdn.com/sim/30/e6/30e67249ba5aaf21a74ac33aef1b68bd_best/zwspto-womens-floral-color-block-printed-long-sleeve-pullover-hoodies-sweatshirt-sweaters-tops-mint-green.jpg\" width=\"150\"/>"
      ],
      "text/plain": [
       "<IPython.core.display.Image object>"
      ]
     },
     "metadata": {},
     "output_type": "display_data"
    },
    {
     "name": "stdout",
     "output_type": "stream",
     "text": [
      "\n",
      "--------------------------------------------------\n",
      "\n",
      "Title: Swrowesi Crewneck Sweatshirts Half Zip Fall Fashion 2023 Mens Graphic T-Shirts Comfy Hoodie Sweatshirt for Men Plus Size Fashion Shirts for Men Graphic Hoodies for Men Casual Jackets for Men(1-Pink\n",
      "Price: $24.41\n",
      "Brand: None\n",
      "Link: https://api.shopstyle.com/action/apiVisitRetailer?id=1006072021&pid=uid1241-46108024-89\n"
     ]
    },
    {
     "data": {
      "text/html": [
       "<img src=\"https://img.shopstyle-cdn.com/sim/bc/71/bc7130d53b0c167b5705515ed565f37a_best/swrowesi-crewneck-sweatshirts-half-zip-fall-fashion-2023-mens-graphic-t-shirts-comfy-hoodie-sweatshirt-for-men-plus-size-fashion-shirts-for-men-graphic-hoodies-for-men-casual-jackets-for-men-1-pink.jpg\" width=\"150\"/>"
      ],
      "text/plain": [
       "<IPython.core.display.Image object>"
      ]
     },
     "metadata": {},
     "output_type": "display_data"
    },
    {
     "name": "stdout",
     "output_type": "stream",
     "text": [
      "\n",
      "--------------------------------------------------\n",
      "\n",
      "Title: Kvsozwuty Men's Hoodies Pullover Black Hoodie Men Funny Hoodies Pullover Hoodie Men Men's Hoodies Full Zip Hoodies for Men Designer Hoodies for Men(5-Orange\n",
      "Price: $23.23\n",
      "Brand: None\n",
      "Link: https://api.shopstyle.com/action/apiVisitRetailer?id=1024636716&pid=uid1241-46108024-89\n"
     ]
    },
    {
     "data": {
      "text/html": [
       "<img src=\"https://img.shopstyle-cdn.com/sim/c1/ec/c1ec22534c9c1baf3b66f087211ff964_best/kvsozwuty-mens-hoodies-pullover-black-hoodie-men-funny-hoodies-pullover-hoodie-men-mens-hoodies-full-zip-hoodies-for-men-designer-hoodies-for-men-5-orange.jpg\" width=\"150\"/>"
      ],
      "text/plain": [
       "<IPython.core.display.Image object>"
      ]
     },
     "metadata": {},
     "output_type": "display_data"
    },
    {
     "name": "stdout",
     "output_type": "stream",
     "text": [
      "\n",
      "--------------------------------------------------\n",
      "\n",
      "Title: Kvsozwuty Hoodies for Men Mens Zip Up Hoodie Black Sweatshirt Matching Hoodies for Couples Mens Big and Tall Hoodies Christmas Hoodies for Men(2-Wine\n",
      "Price: $20.17\n",
      "Brand: None\n",
      "Link: https://api.shopstyle.com/action/apiVisitRetailer?id=1022038081&pid=uid1241-46108024-89\n"
     ]
    },
    {
     "data": {
      "text/html": [
       "<img src=\"https://img.shopstyle-cdn.com/sim/bd/12/bd125095ce7c367a90203e2dbcb68e9f_best/kvsozwuty-hoodies-for-men-mens-zip-up-hoodie-black-sweatshirt-matching-hoodies-for-couples-mens-big-and-tall-hoodies-christmas-hoodies-for-men-2-wine.jpg\" width=\"150\"/>"
      ],
      "text/plain": [
       "<IPython.core.display.Image object>"
      ]
     },
     "metadata": {},
     "output_type": "display_data"
    },
    {
     "name": "stdout",
     "output_type": "stream",
     "text": [
      "\n",
      "--------------------------------------------------\n",
      "\n",
      "\n",
      "Outfit Recommendations for 'Viva La Vida' by Coldplay with colors Grey black red-orange:\n",
      "Outfits for Color Scheme: Grey, black, red-orange\n",
      "Title: 24SEVEN COMFORT APPAREL 24/7 Comfort Apparel Midi Length Fit And Flare Pocket Dress\n",
      "Price: $39.99\n",
      "Brand: None\n",
      "Link: https://api.shopstyle.com/action/apiVisitRetailer?id=830306335&pid=uid1241-46108024-89\n"
     ]
    },
    {
     "data": {
      "text/html": [
       "<img src=\"https://img.shopstyle-cdn.com/sim/b8/5a/b85a279c41f8f049a71b63480dfd8572_best/24seven-comfort-apparel-24-7-comfort-apparel-midi-length-fit-and-flare-pocket-dress.jpg\" width=\"150\"/>"
      ],
      "text/plain": [
       "<IPython.core.display.Image object>"
      ]
     },
     "metadata": {},
     "output_type": "display_data"
    },
    {
     "name": "stdout",
     "output_type": "stream",
     "text": [
      "\n",
      "--------------------------------------------------\n",
      "\n",
      "Title: Castelli Gabba RoS Jersey - Men's\n",
      "Price: $239.99\n",
      "Brand: Castelli\n",
      "Link: https://api.shopstyle.com/action/apiVisitRetailer?id=940490207&pid=uid1241-46108024-89\n"
     ]
    },
    {
     "data": {
      "text/html": [
       "<img src=\"https://img.shopstyle-cdn.com/sim/b1/9d/b19d93864f78da83f2c132b9696cc44f_best/castelli-gabba-ros-jersey-mens.jpg\" width=\"150\"/>"
      ],
      "text/plain": [
       "<IPython.core.display.Image object>"
      ]
     },
     "metadata": {},
     "output_type": "display_data"
    },
    {
     "name": "stdout",
     "output_type": "stream",
     "text": [
      "\n",
      "--------------------------------------------------\n",
      "\n",
      "Title: Boxercraft Women's Baby Rib T-Shirt\n",
      "Price: $128.52\n",
      "Brand: None\n",
      "Link: https://api.shopstyle.com/action/apiVisitRetailer?id=1072962963&pid=uid1241-46108024-89\n"
     ]
    },
    {
     "data": {
      "text/html": [
       "<img src=\"https://img.shopstyle-cdn.com/sim/cf/22/cf2210c63b6784c0f9761f50b3870b08_best/boxercraft-womens-baby-rib-t-shirt.jpg\" width=\"150\"/>"
      ],
      "text/plain": [
       "<IPython.core.display.Image object>"
      ]
     },
     "metadata": {},
     "output_type": "display_data"
    },
    {
     "name": "stdout",
     "output_type": "stream",
     "text": [
      "\n",
      "--------------------------------------------------\n",
      "\n",
      "Title: LAYHTKTL Fall Clothes For Women\n",
      "Price: $30.69\n",
      "Brand: None\n",
      "Link: https://api.shopstyle.com/action/apiVisitRetailer?id=1005431819&pid=uid1241-46108024-89\n"
     ]
    },
    {
     "data": {
      "text/html": [
       "<img src=\"https://img.shopstyle-cdn.com/sim/ec/1b/ec1b84cea7e5221b4eb94a517c284faf_best/layhtktl-fall-clothes-for-women.jpg\" width=\"150\"/>"
      ],
      "text/plain": [
       "<IPython.core.display.Image object>"
      ]
     },
     "metadata": {},
     "output_type": "display_data"
    },
    {
     "name": "stdout",
     "output_type": "stream",
     "text": [
      "\n",
      "--------------------------------------------------\n",
      "\n",
      "Title: Generic Women'S Long Sleeve Sweatshirt Casual Crewneck Loose Fit Pullover Hoodie Fleece Fall Tops Large Burgundy\n",
      "Price: $21.99\n",
      "Brand: None\n",
      "Link: https://api.shopstyle.com/action/apiVisitRetailer?id=1025713086&pid=uid1241-46108024-89\n"
     ]
    },
    {
     "data": {
      "text/html": [
       "<img src=\"https://img.shopstyle-cdn.com/sim/c5/e0/c5e0907bac72e6ec66bbbfab25e52080_best/generic-womens-long-sleeve-sweatshirt-casual-crewneck-loose-fit-pullover-hoodie-fleece-fall-tops-large-burgundy.jpg\" width=\"150\"/>"
      ],
      "text/plain": [
       "<IPython.core.display.Image object>"
      ]
     },
     "metadata": {},
     "output_type": "display_data"
    },
    {
     "name": "stdout",
     "output_type": "stream",
     "text": [
      "\n",
      "--------------------------------------------------\n",
      "\n",
      "\n",
      "Outfit Recommendations for 'Video Games' by Lana Del Rey with colors Orange yellow-orange orange:\n",
      "Outfits for Color Scheme: Orange, yellow-orange, orange\n",
      "Title: Smak Parlour Plus Size 1960s Terry Cloth Romper - Fall brown, orange, yellow color\n",
      "Price: $97\n",
      "Brand: None\n",
      "Link: https://api.shopstyle.com/action/apiVisitRetailer?id=1057540835&pid=uid1241-46108024-89\n"
     ]
    },
    {
     "data": {
      "text/html": [
       "<img src=\"https://img.shopstyle-cdn.com/sim/e8/33/e83359630162e38297741e8fd254ed0c_best/smak-parlour-plus-size-1960s-terry-cloth-romper-fall-brown-orange-yellow-color.jpg\" width=\"150\"/>"
      ],
      "text/plain": [
       "<IPython.core.display.Image object>"
      ]
     },
     "metadata": {},
     "output_type": "display_data"
    },
    {
     "name": "stdout",
     "output_type": "stream",
     "text": [
      "\n",
      "--------------------------------------------------\n",
      "\n",
      "Title: BLISSY Silk Sleep Mask\n",
      "Price: $39.95\n",
      "Brand: None\n",
      "Link: https://api.shopstyle.com/action/apiVisitRetailer?id=896891483&pid=uid1241-46108024-89\n"
     ]
    },
    {
     "data": {
      "text/html": [
       "<img src=\"https://img.shopstyle-cdn.com/sim/85/49/85492abd92547d9b556f3339c2abad42_best/blissy-silk-sleep-mask.jpg\" width=\"150\"/>"
      ],
      "text/plain": [
       "<IPython.core.display.Image object>"
      ]
     },
     "metadata": {},
     "output_type": "display_data"
    },
    {
     "name": "stdout",
     "output_type": "stream",
     "text": [
      "\n",
      "--------------------------------------------------\n",
      "\n",
      "Title: Women's Zip Front Puffer Oversized Jacket\n",
      "Price: $128\n",
      "Brand: Members Only\n",
      "Link: https://api.shopstyle.com/action/apiVisitRetailer?id=973580765&pid=uid1241-46108024-89\n"
     ]
    },
    {
     "data": {
      "text/html": [
       "<img src=\"https://img.shopstyle-cdn.com/sim/b5/6f/b56f82d6b5ce66df7decd5fce286ddf6_best/womens-zip-front-puffer-oversized-jacket.jpg\" width=\"150\"/>"
      ],
      "text/plain": [
       "<IPython.core.display.Image object>"
      ]
     },
     "metadata": {},
     "output_type": "display_data"
    },
    {
     "name": "stdout",
     "output_type": "stream",
     "text": [
      "\n",
      "--------------------------------------------------\n",
      "\n",
      "Title: State of Georgia The Lounger Rib Singlet Sunshine\n",
      "Price: $69\n",
      "Brand: None\n",
      "Link: https://api.shopstyle.com/action/apiVisitRetailer?id=897806537&pid=uid1241-46108024-89\n"
     ]
    },
    {
     "data": {
      "text/html": [
       "<img src=\"https://img.shopstyle-cdn.com/sim/dc/73/dc73ac3f4fd777dd8adf00764c36e2e2_best/state-of-georgia-the-lounger-rib-singlet-sunshine.jpg\" width=\"150\"/>"
      ],
      "text/plain": [
       "<IPython.core.display.Image object>"
      ]
     },
     "metadata": {},
     "output_type": "display_data"
    },
    {
     "name": "stdout",
     "output_type": "stream",
     "text": [
      "\n",
      "--------------------------------------------------\n",
      "\n",
      "Title: Smart and Joy Shoulder Flaps Woolen Coat - Orange\n",
      "Price: $354\n",
      "Brand: None\n",
      "Link: https://api.shopstyle.com/action/apiVisitRetailer?id=1063791831&pid=uid1241-46108024-89\n"
     ]
    },
    {
     "data": {
      "text/html": [
       "<img src=\"https://img.shopstyle-cdn.com/sim/28/fe/28fef666b202af13b0870ebb6292363f_best/smart-and-joy-shoulder-flaps-woolen-coat-orange.jpg\" width=\"150\"/>"
      ],
      "text/plain": [
       "<IPython.core.display.Image object>"
      ]
     },
     "metadata": {},
     "output_type": "display_data"
    },
    {
     "name": "stdout",
     "output_type": "stream",
     "text": [
      "\n",
      "--------------------------------------------------\n",
      "\n"
     ]
    }
   ],
   "source": [
    "#  Display outfit recommendations based on combined color scheme\n",
    "display_top_songs_colors_and_outfits(\"women\",top_songs_colors,sort_by=\"new\")  # Change \"men\" to \"women\" as needed\n"
   ]
  },
  {
   "cell_type": "code",
   "execution_count": 21,
   "id": "6653f55e-0500-48fb-b3ce-40edcde748cf",
   "metadata": {},
   "outputs": [
    {
     "name": "stdout",
     "output_type": "stream",
     "text": [
      "\n",
      "Outfit Recommendations for 'Overcast' by Kevin MacLeod with colors Red-orange purple purple:\n",
      "Outfits for Color Scheme: Red-orange, purple, purple\n",
      "Title: CUSTOMI Idaho Falls Idaho Adult Unisex Crewneck Sweatshirt\n",
      "Price: $34.99\n",
      "Brand: None\n",
      "Link: https://api.shopstyle.com/action/apiVisitRetailer?id=1046244983&pid=uid1241-46108024-89\n"
     ]
    },
    {
     "data": {
      "text/html": [
       "<img src=\"https://img.shopstyle-cdn.com/sim/95/ba/95baf8b40ff344d51e6598bc6dd4134b_best/customi-idaho-falls-idaho-adult-unisex-crewneck-sweatshirt.jpg\" width=\"150\"/>"
      ],
      "text/plain": [
       "<IPython.core.display.Image object>"
      ]
     },
     "metadata": {},
     "output_type": "display_data"
    },
    {
     "name": "stdout",
     "output_type": "stream",
     "text": [
      "\n",
      "--------------------------------------------------\n",
      "\n",
      "Title: Generic I'll Just Have the Chicken Tenders Sweatshirt Funny Graphic Farm Shirts I'll Have the Chicken Tenders Sweatshirt Long Sleeve Crew Neck Fall Pullover Top Chicken Tender Lover Hoodie Chartreuse\n",
      "Price: $29.90\n",
      "Brand: None\n",
      "Link: https://api.shopstyle.com/action/apiVisitRetailer?id=1023748679&pid=uid1241-46108024-89\n"
     ]
    },
    {
     "data": {
      "text/html": [
       "<img src=\"https://img.shopstyle-cdn.com/sim/8e/a0/8ea05b28d50e767181f6bfb20161325e_best/generic-ill-just-have-the-chicken-tenders-sweatshirt-funny-graphic-farm-shirts-ill-have-the-chicken-tenders-sweatshirt-long-sleeve-crew-neck-fall-pullover-top-chicken-tender-lover-hoodie-chartreuse.jpg\" width=\"150\"/>"
      ],
      "text/plain": [
       "<IPython.core.display.Image object>"
      ]
     },
     "metadata": {},
     "output_type": "display_data"
    },
    {
     "name": "stdout",
     "output_type": "stream",
     "text": [
      "\n",
      "--------------------------------------------------\n",
      "\n",
      "Title: CUSTOMI Great Falls Montana Adult Unisex Crewneck Sweatshirt\n",
      "Price: $34.99\n",
      "Brand: None\n",
      "Link: https://api.shopstyle.com/action/apiVisitRetailer?id=1045116637&pid=uid1241-46108024-89\n"
     ]
    },
    {
     "data": {
      "text/html": [
       "<img src=\"https://img.shopstyle-cdn.com/sim/4f/18/4f180aa12d1bba5a2f1f8f1dad0b191d_best/customi-great-falls-montana-adult-unisex-crewneck-sweatshirt.jpg\" width=\"150\"/>"
      ],
      "text/plain": [
       "<IPython.core.display.Image object>"
      ]
     },
     "metadata": {},
     "output_type": "display_data"
    },
    {
     "name": "stdout",
     "output_type": "stream",
     "text": [
      "\n",
      "--------------------------------------------------\n",
      "\n",
      "Title: CUSTOMI Sioux Falls South Dakota Adult Unisex Crewneck Sweatshirt\n",
      "Price: $34.99\n",
      "Brand: None\n",
      "Link: https://api.shopstyle.com/action/apiVisitRetailer?id=1045360400&pid=uid1241-46108024-89\n"
     ]
    },
    {
     "data": {
      "text/html": [
       "<img src=\"https://img.shopstyle-cdn.com/sim/86/92/8692a9f09a9e86e22cd237be26a923d7_best/customi-sioux-falls-south-dakota-adult-unisex-crewneck-sweatshirt.jpg\" width=\"150\"/>"
      ],
      "text/plain": [
       "<IPython.core.display.Image object>"
      ]
     },
     "metadata": {},
     "output_type": "display_data"
    },
    {
     "name": "stdout",
     "output_type": "stream",
     "text": [
      "\n",
      "--------------------------------------------------\n",
      "\n",
      "Title: Muscularfit black of friday deals 2023 Hoodies for Men Graphic Gradient Color Lightweight Hooded Sweatshirts Regular Fit Long Sleeve Drawstring Pullover mens plain hoodies Army Green 2X\n",
      "Price: $45.59\n",
      "Brand: None\n",
      "Link: https://api.shopstyle.com/action/apiVisitRetailer?id=1024670418&pid=uid1241-46108024-89\n"
     ]
    },
    {
     "data": {
      "text/html": [
       "<img src=\"https://img.shopstyle-cdn.com/sim/08/b7/08b79b75deafa768b3341063f9d613b0_best/muscularfit-black-of-friday-deals-2023-hoodies-for-men-graphic-gradient-color-lightweight-hooded-sweatshirts-regular-fit-long-sleeve-drawstring-pullover-mens-plain-hoodies-army-green-2x.jpg\" width=\"150\"/>"
      ],
      "text/plain": [
       "<IPython.core.display.Image object>"
      ]
     },
     "metadata": {},
     "output_type": "display_data"
    },
    {
     "name": "stdout",
     "output_type": "stream",
     "text": [
      "\n",
      "--------------------------------------------------\n",
      "\n",
      "\n",
      "Outfit Recommendations for 'Espresso' by Sabrina Carpenter with colors Cyan black red-orange:\n",
      "Outfits for Color Scheme: Cyan, black, red-orange\n",
      "Title: Swrowesi Crewneck Sweatshirts Half Zip Fall Fashion 2023 Mens Graphic T-Shirts Comfy Hoodie Sweatshirt for Men Plus Size Fashion Shirts for Men Graphic Hoodies for Men Casual Jackets for Men(1-Pink\n",
      "Price: $24.41\n",
      "Brand: None\n",
      "Link: https://api.shopstyle.com/action/apiVisitRetailer?id=1006072021&pid=uid1241-46108024-89\n"
     ]
    },
    {
     "data": {
      "text/html": [
       "<img src=\"https://img.shopstyle-cdn.com/sim/bc/71/bc7130d53b0c167b5705515ed565f37a_best/swrowesi-crewneck-sweatshirts-half-zip-fall-fashion-2023-mens-graphic-t-shirts-comfy-hoodie-sweatshirt-for-men-plus-size-fashion-shirts-for-men-graphic-hoodies-for-men-casual-jackets-for-men-1-pink.jpg\" width=\"150\"/>"
      ],
      "text/plain": [
       "<IPython.core.display.Image object>"
      ]
     },
     "metadata": {},
     "output_type": "display_data"
    },
    {
     "name": "stdout",
     "output_type": "stream",
     "text": [
      "\n",
      "--------------------------------------------------\n",
      "\n",
      "Title: Kvsozwuty Men's Hoodies Pullover Black Hoodie Men Funny Hoodies Pullover Hoodie Men Men's Hoodies Full Zip Hoodies for Men Designer Hoodies for Men(5-Orange\n",
      "Price: $23.23\n",
      "Brand: None\n",
      "Link: https://api.shopstyle.com/action/apiVisitRetailer?id=1024636716&pid=uid1241-46108024-89\n"
     ]
    },
    {
     "data": {
      "text/html": [
       "<img src=\"https://img.shopstyle-cdn.com/sim/c1/ec/c1ec22534c9c1baf3b66f087211ff964_best/kvsozwuty-mens-hoodies-pullover-black-hoodie-men-funny-hoodies-pullover-hoodie-men-mens-hoodies-full-zip-hoodies-for-men-designer-hoodies-for-men-5-orange.jpg\" width=\"150\"/>"
      ],
      "text/plain": [
       "<IPython.core.display.Image object>"
      ]
     },
     "metadata": {},
     "output_type": "display_data"
    },
    {
     "name": "stdout",
     "output_type": "stream",
     "text": [
      "\n",
      "--------------------------------------------------\n",
      "\n",
      "Title: DYGUYTH Men's Funny Christmas Sweatshirts\n",
      "Price: $20.99\n",
      "Brand: None\n",
      "Link: https://api.shopstyle.com/action/apiVisitRetailer?id=1026022307&pid=uid1241-46108024-89\n"
     ]
    },
    {
     "data": {
      "text/html": [
       "<img src=\"https://img.shopstyle-cdn.com/sim/e8/b4/e8b4d91564086016180b625fab6fb659_best/dyguyth-mens-funny-christmas-sweatshirts.jpg\" width=\"150\"/>"
      ],
      "text/plain": [
       "<IPython.core.display.Image object>"
      ]
     },
     "metadata": {},
     "output_type": "display_data"
    },
    {
     "name": "stdout",
     "output_type": "stream",
     "text": [
      "\n",
      "--------------------------------------------------\n",
      "\n",
      "Title: Kvsozwuty Hoodies for Men Mens Zip Up Hoodie Black Sweatshirt Matching Hoodies for Couples Mens Big and Tall Hoodies Christmas Hoodies for Men(2-Wine\n",
      "Price: $20.17\n",
      "Brand: None\n",
      "Link: https://api.shopstyle.com/action/apiVisitRetailer?id=1022038081&pid=uid1241-46108024-89\n"
     ]
    },
    {
     "data": {
      "text/html": [
       "<img src=\"https://img.shopstyle-cdn.com/sim/bd/12/bd125095ce7c367a90203e2dbcb68e9f_best/kvsozwuty-hoodies-for-men-mens-zip-up-hoodie-black-sweatshirt-matching-hoodies-for-couples-mens-big-and-tall-hoodies-christmas-hoodies-for-men-2-wine.jpg\" width=\"150\"/>"
      ],
      "text/plain": [
       "<IPython.core.display.Image object>"
      ]
     },
     "metadata": {},
     "output_type": "display_data"
    },
    {
     "name": "stdout",
     "output_type": "stream",
     "text": [
      "\n",
      "--------------------------------------------------\n",
      "\n",
      "Title: Kvsozwuty Mens Hoodies Pullover Men’s Sweatshirt Mens Hoodies Zip Up Short Sleeve Hoodies for Men Men's Hoodies Pullover Crewneck Sweatshirts Men Cool Hoodies for Men(4-Gray\n",
      "Price: $20.37\n",
      "Brand: None\n",
      "Link: https://api.shopstyle.com/action/apiVisitRetailer?id=1030122481&pid=uid1241-46108024-89\n"
     ]
    },
    {
     "data": {
      "text/html": [
       "<img src=\"https://img.shopstyle-cdn.com/sim/d1/9a/d19afe87625601f099228ab79d88f81b_best/kvsozwuty-mens-hoodies-pullover-men-s-sweatshirt-mens-hoodies-zip-up-short-sleeve-hoodies-for-men-mens-hoodies-pullover-crewneck-sweatshirts-men-cool-hoodies-for-men-4-gray.jpg\" width=\"150\"/>"
      ],
      "text/plain": [
       "<IPython.core.display.Image object>"
      ]
     },
     "metadata": {},
     "output_type": "display_data"
    },
    {
     "name": "stdout",
     "output_type": "stream",
     "text": [
      "\n",
      "--------------------------------------------------\n",
      "\n",
      "\n",
      "Outfit Recommendations for 'Viva La Vida' by Coldplay with colors Grey black red-orange:\n",
      "Outfits for Color Scheme: Grey, black, red-orange\n",
      "Title: Swrowesi Crewneck Sweatshirts Half Zip Fall Fashion 2023 Mens Graphic T-Shirts Comfy Hoodie Sweatshirt for Men Plus Size Fashion Shirts for Men Graphic Hoodies for Men Casual Jackets for Men(1-Pink\n",
      "Price: $24.41\n",
      "Brand: None\n",
      "Link: https://api.shopstyle.com/action/apiVisitRetailer?id=1006072021&pid=uid1241-46108024-89\n"
     ]
    },
    {
     "data": {
      "text/html": [
       "<img src=\"https://img.shopstyle-cdn.com/sim/bc/71/bc7130d53b0c167b5705515ed565f37a_best/swrowesi-crewneck-sweatshirts-half-zip-fall-fashion-2023-mens-graphic-t-shirts-comfy-hoodie-sweatshirt-for-men-plus-size-fashion-shirts-for-men-graphic-hoodies-for-men-casual-jackets-for-men-1-pink.jpg\" width=\"150\"/>"
      ],
      "text/plain": [
       "<IPython.core.display.Image object>"
      ]
     },
     "metadata": {},
     "output_type": "display_data"
    },
    {
     "name": "stdout",
     "output_type": "stream",
     "text": [
      "\n",
      "--------------------------------------------------\n",
      "\n",
      "Title: Generic I'll Just Have the Chicken Tenders Sweatshirt Funny Graphic Farm Shirts I'll Have the Chicken Tenders Sweatshirt Long Sleeve Crew Neck Fall Pullover Top Chicken Tender Lover Hoodie Chartreuse\n",
      "Price: $29.90\n",
      "Brand: None\n",
      "Link: https://api.shopstyle.com/action/apiVisitRetailer?id=1023748679&pid=uid1241-46108024-89\n"
     ]
    },
    {
     "data": {
      "text/html": [
       "<img src=\"https://img.shopstyle-cdn.com/sim/4d/0b/4d0b4aaeb812cb39e09ceb1f2adc37d5_best/generic-ill-just-have-the-chicken-tenders-sweatshirt-funny-graphic-farm-shirts-ill-have-the-chicken-tenders-sweatshirt-long-sleeve-crew-neck-fall-pullover-top-chicken-tender-lover-hoodie-chartreuse.jpg\" width=\"150\"/>"
      ],
      "text/plain": [
       "<IPython.core.display.Image object>"
      ]
     },
     "metadata": {},
     "output_type": "display_data"
    },
    {
     "name": "stdout",
     "output_type": "stream",
     "text": [
      "\n",
      "--------------------------------------------------\n",
      "\n",
      "Title: LCMTWX Cyber of Monday Deals 2023 Thermal Lined Zip Hoodie Sweatshirts Men Men Black Tshirt Hoodie Men Sweater Men Cotton 18000 Sweatshirt Blue Pullover Women Lightning Deals Of Today\n",
      "Price: $20.29\n",
      "Brand: None\n",
      "Link: https://api.shopstyle.com/action/apiVisitRetailer?id=1004605892&pid=uid1241-46108024-89\n"
     ]
    },
    {
     "data": {
      "text/html": [
       "<img src=\"https://img.shopstyle-cdn.com/sim/c0/f2/c0f2552d1add7dc35c2f3c570d8a0317_best/lcmtwx-cyber-of-monday-deals-2023-thermal-lined-zip-hoodie-sweatshirts-men-men-black-tshirt-hoodie-men-sweater-men-cotton-18000-sweatshirt-blue-pullover-women-lightning-deals-of-today.jpg\" width=\"150\"/>"
      ],
      "text/plain": [
       "<IPython.core.display.Image object>"
      ]
     },
     "metadata": {},
     "output_type": "display_data"
    },
    {
     "name": "stdout",
     "output_type": "stream",
     "text": [
      "\n",
      "--------------------------------------------------\n",
      "\n",
      "Title: Kvsozwuty Men's Hoodies Pullover Black Hoodie Men Funny Hoodies Pullover Hoodie Men Men's Hoodies Full Zip Hoodies for Men Designer Hoodies for Men(5-Orange\n",
      "Price: $23.23\n",
      "Brand: None\n",
      "Link: https://api.shopstyle.com/action/apiVisitRetailer?id=1024636716&pid=uid1241-46108024-89\n"
     ]
    },
    {
     "data": {
      "text/html": [
       "<img src=\"https://img.shopstyle-cdn.com/sim/c1/ec/c1ec22534c9c1baf3b66f087211ff964_best/kvsozwuty-mens-hoodies-pullover-black-hoodie-men-funny-hoodies-pullover-hoodie-men-mens-hoodies-full-zip-hoodies-for-men-designer-hoodies-for-men-5-orange.jpg\" width=\"150\"/>"
      ],
      "text/plain": [
       "<IPython.core.display.Image object>"
      ]
     },
     "metadata": {},
     "output_type": "display_data"
    },
    {
     "name": "stdout",
     "output_type": "stream",
     "text": [
      "\n",
      "--------------------------------------------------\n",
      "\n",
      "Title: KXK Custom Full-Zip Hoodie Fleece Sweatshirt for Men & Women&Youth-Personalized Stitched Name Number Logo\n",
      "Price: $28.99\n",
      "Brand: None\n",
      "Link: https://api.shopstyle.com/action/apiVisitRetailer?id=1003487130&pid=uid1241-46108024-89\n"
     ]
    },
    {
     "data": {
      "text/html": [
       "<img src=\"https://img.shopstyle-cdn.com/sim/99/b0/99b026c66e894373dd8e2754eb4d4e6d_best/kxk-custom-full-zip-hoodie-fleece-sweatshirt-for-men-women-youth-personalized-stitched-name-number-logo.jpg\" width=\"150\"/>"
      ],
      "text/plain": [
       "<IPython.core.display.Image object>"
      ]
     },
     "metadata": {},
     "output_type": "display_data"
    },
    {
     "name": "stdout",
     "output_type": "stream",
     "text": [
      "\n",
      "--------------------------------------------------\n",
      "\n",
      "\n",
      "Outfit Recommendations for 'Video Games' by Lana Del Rey with colors Orange yellow-orange orange:\n",
      "Outfits for Color Scheme: Orange, yellow-orange, orange\n",
      "Title: Generic Crewneck Sweatshirts Solide Color Long Sleeve Plain Mens Pullover Novelty Heated Matching Fall Sweatshirt Soft Adult Retro Mens Sweatshirts 02 Light Blue 4X-Large\n",
      "Price: $21.12\n",
      "Brand: None\n",
      "Link: https://api.shopstyle.com/action/apiVisitRetailer?id=1021621699&pid=uid1241-46108024-89\n"
     ]
    },
    {
     "data": {
      "text/html": [
       "<img src=\"https://img.shopstyle-cdn.com/sim/d1/54/d154f7c5be504eee388a962881df4470_best/generic-crewneck-sweatshirts-solide-color-long-sleeve-plain-mens-pullover-novelty-heated-matching-fall-sweatshirt-soft-adult-retro-mens-sweatshirts-02-light-blue-4x-large.jpg\" width=\"150\"/>"
      ],
      "text/plain": [
       "<IPython.core.display.Image object>"
      ]
     },
     "metadata": {},
     "output_type": "display_data"
    },
    {
     "name": "stdout",
     "output_type": "stream",
     "text": [
      "\n",
      "--------------------------------------------------\n",
      "\n",
      "Title: SAiden11 Men' Patchwork Outdoor Casual Sportswear Street Thermal Hooded Sweatshirt Fall Winter s4 Red L\n",
      "Price: $42.77\n",
      "Brand: None\n",
      "Link: https://api.shopstyle.com/action/apiVisitRetailer?id=1028470466&pid=uid1241-46108024-89\n"
     ]
    },
    {
     "data": {
      "text/html": [
       "<img src=\"https://img.shopstyle-cdn.com/sim/49/cd/49cd18161badcc4954f67d0b8eb122bb_best/saiden11-men-patchwork-outdoor-casual-sportswear-street-thermal-hooded-sweatshirt-fall-winter-s4-red-l.jpg\" width=\"150\"/>"
      ],
      "text/plain": [
       "<IPython.core.display.Image object>"
      ]
     },
     "metadata": {},
     "output_type": "display_data"
    },
    {
     "name": "stdout",
     "output_type": "stream",
     "text": [
      "\n",
      "--------------------------------------------------\n",
      "\n",
      "Title: Generic Crewneck Sweatshirts Solide Color Long Sleeve Heated Pullover Sweatshirt College Soft Loose Fall Sweatshirts Retro Personalized Thermal Mens Sweatshirt 02 Gray 4X-Large\n",
      "Price: $21.12\n",
      "Brand: None\n",
      "Link: https://api.shopstyle.com/action/apiVisitRetailer?id=1020688799&pid=uid1241-46108024-89\n"
     ]
    },
    {
     "data": {
      "text/html": [
       "<img src=\"https://img.shopstyle-cdn.com/sim/d1/54/d154f7c5be504eee388a962881df4470_best/generic-crewneck-sweatshirts-solide-color-long-sleeve-heated-pullover-sweatshirt-college-soft-loose-fall-sweatshirts-retro-personalized-thermal-mens-sweatshirt-02-gray-4x-large.jpg\" width=\"150\"/>"
      ],
      "text/plain": [
       "<IPython.core.display.Image object>"
      ]
     },
     "metadata": {},
     "output_type": "display_data"
    },
    {
     "name": "stdout",
     "output_type": "stream",
     "text": [
      "\n",
      "--------------------------------------------------\n",
      "\n",
      "Title: Generic Mens Crewneck Sweatshirts Solide Color Long Sleeve Vintage Pullover Men Heavy Warm Oversized Fall Crewneck Sweatshirt Personalized Slim Fit College Men'S Sweatshirts 01 Light Brown 3X-Large\n",
      "Price: $20.18\n",
      "Brand: None\n",
      "Link: https://api.shopstyle.com/action/apiVisitRetailer?id=1021663057&pid=uid1241-46108024-89\n"
     ]
    },
    {
     "data": {
      "text/html": [
       "<img src=\"https://img.shopstyle-cdn.com/sim/d1/54/d154f7c5be504eee388a962881df4470_best/generic-mens-crewneck-sweatshirts-solide-color-long-sleeve-vintage-pullover-men-heavy-warm-oversized-fall-crewneck-sweatshirt-personalized-slim-fit-college-mens-sweatshirts-01-light-brown-3x-large.jpg\" width=\"150\"/>"
      ],
      "text/plain": [
       "<IPython.core.display.Image object>"
      ]
     },
     "metadata": {},
     "output_type": "display_data"
    },
    {
     "name": "stdout",
     "output_type": "stream",
     "text": [
      "\n",
      "--------------------------------------------------\n",
      "\n",
      "Title: Generic I'll Just Have the Chicken Tenders Sweatshirt Funny Graphic Farm Shirts I'll Have the Chicken Tenders Sweatshirt Long Sleeve Crew Neck Fall Pullover Top Chicken Tender Lover Hoodie Chartreuse\n",
      "Price: $29.90\n",
      "Brand: None\n",
      "Link: https://api.shopstyle.com/action/apiVisitRetailer?id=1023748679&pid=uid1241-46108024-89\n"
     ]
    },
    {
     "data": {
      "text/html": [
       "<img src=\"https://img.shopstyle-cdn.com/sim/07/b4/07b43e0e0d0f86383b1b5ea2362db2ca_best/generic-ill-just-have-the-chicken-tenders-sweatshirt-funny-graphic-farm-shirts-ill-have-the-chicken-tenders-sweatshirt-long-sleeve-crew-neck-fall-pullover-top-chicken-tender-lover-hoodie-chartreuse.jpg\" width=\"150\"/>"
      ],
      "text/plain": [
       "<IPython.core.display.Image object>"
      ]
     },
     "metadata": {},
     "output_type": "display_data"
    },
    {
     "name": "stdout",
     "output_type": "stream",
     "text": [
      "\n",
      "--------------------------------------------------\n",
      "\n"
     ]
    }
   ],
   "source": [
    "display_top_songs_colors_and_outfits(\"men\",top_songs_colors,sort_by=\"popularity\")"
   ]
  }
 ],
 "metadata": {
  "kernelspec": {
   "display_name": "Python 3 (ipykernel)",
   "language": "python",
   "name": "python3"
  },
  "language_info": {
   "codemirror_mode": {
    "name": "ipython",
    "version": 3
   },
   "file_extension": ".py",
   "mimetype": "text/x-python",
   "name": "python",
   "nbconvert_exporter": "python",
   "pygments_lexer": "ipython3",
   "version": "3.12.7"
  }
 },
 "nbformat": 4,
 "nbformat_minor": 5
}
